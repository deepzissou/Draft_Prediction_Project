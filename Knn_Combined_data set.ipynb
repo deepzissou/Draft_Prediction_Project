{
 "cells": [
  {
   "cell_type": "code",
   "execution_count": 1,
   "id": "43d2be41",
   "metadata": {},
   "outputs": [],
   "source": [
    "#Import our dependencies\n",
    "#=======================================================\n",
    "import pandas as pd\n",
    "import numpy as np\n",
    "import matplotlib.pyplot as plt\n",
    "from sklearn.model_selection import train_test_split\n",
    "from sklearn.metrics import accuracy_score\n",
    "from sklearn.metrics import precision_score, recall_score, accuracy_score, f1_score, confusion_matrix\n",
    "from sklearn.model_selection import train_test_split, GridSearchCV, cross_val_score\n",
    "from sklearn.metrics import classification_report\n",
    "from matplotlib.colors import ListedColormap\n",
    "from sklearn import neighbors\n",
    "import pickle\n",
    "import seaborn as sns; sns.set(style ='white', color_codes = True)"
   ]
  },
  {
   "cell_type": "code",
   "execution_count": 2,
   "id": "0f387b00",
   "metadata": {},
   "outputs": [],
   "source": [
    "pd.options.display.max_columns=None"
   ]
  },
  {
   "cell_type": "code",
   "execution_count": 3,
   "id": "65e6a4d0",
   "metadata": {},
   "outputs": [
    {
     "data": {
      "text/html": [
       "<div>\n",
       "<style scoped>\n",
       "    .dataframe tbody tr th:only-of-type {\n",
       "        vertical-align: middle;\n",
       "    }\n",
       "\n",
       "    .dataframe tbody tr th {\n",
       "        vertical-align: top;\n",
       "    }\n",
       "\n",
       "    .dataframe thead th {\n",
       "        text-align: right;\n",
       "    }\n",
       "</style>\n",
       "<table border=\"1\" class=\"dataframe\">\n",
       "  <thead>\n",
       "    <tr style=\"text-align: right;\">\n",
       "      <th></th>\n",
       "      <th>url</th>\n",
       "      <th>name</th>\n",
       "      <th>fgapg</th>\n",
       "      <th>fgpct</th>\n",
       "      <th>fgpg</th>\n",
       "      <th>ftapg</th>\n",
       "      <th>ftpct</th>\n",
       "      <th>ftpg</th>\n",
       "      <th>games</th>\n",
       "      <th>height</th>\n",
       "      <th>pfpg</th>\n",
       "      <th>ptspg</th>\n",
       "      <th>sospg</th>\n",
       "      <th>trbpg</th>\n",
       "      <th>drafted</th>\n",
       "    </tr>\n",
       "  </thead>\n",
       "  <tbody>\n",
       "    <tr>\n",
       "      <th>0</th>\n",
       "      <td>/cbb/players/menghe-anyam-1.html</td>\n",
       "      <td>Menghe a'Nyam</td>\n",
       "      <td>2.1</td>\n",
       "      <td>0.414</td>\n",
       "      <td>0.9</td>\n",
       "      <td>1.2</td>\n",
       "      <td>0.529</td>\n",
       "      <td>0.7</td>\n",
       "      <td>41.0</td>\n",
       "      <td>6/5</td>\n",
       "      <td>2.2</td>\n",
       "      <td>2.4</td>\n",
       "      <td>-4.15</td>\n",
       "      <td>3.0</td>\n",
       "      <td>0</td>\n",
       "    </tr>\n",
       "    <tr>\n",
       "      <th>1</th>\n",
       "      <td>/cbb/players/jordan-aaberg-1.html</td>\n",
       "      <td>Jordan Aaberg</td>\n",
       "      <td>2.3</td>\n",
       "      <td>0.619</td>\n",
       "      <td>1.5</td>\n",
       "      <td>0.7</td>\n",
       "      <td>0.788</td>\n",
       "      <td>0.6</td>\n",
       "      <td>115.0</td>\n",
       "      <td>6/9</td>\n",
       "      <td>1.6</td>\n",
       "      <td>3.5</td>\n",
       "      <td>-3.07</td>\n",
       "      <td>2.3</td>\n",
       "      <td>0</td>\n",
       "    </tr>\n",
       "    <tr>\n",
       "      <th>2</th>\n",
       "      <td>/cbb/players/karl-aaker-1.html</td>\n",
       "      <td>Karl Aaker</td>\n",
       "      <td>4.0</td>\n",
       "      <td>0.346</td>\n",
       "      <td>1.4</td>\n",
       "      <td>0.6</td>\n",
       "      <td>0.611</td>\n",
       "      <td>0.4</td>\n",
       "      <td>92.0</td>\n",
       "      <td>6/5</td>\n",
       "      <td>2.3</td>\n",
       "      <td>4.1</td>\n",
       "      <td>1.37</td>\n",
       "      <td>2.0</td>\n",
       "      <td>0</td>\n",
       "    </tr>\n",
       "    <tr>\n",
       "      <th>3</th>\n",
       "      <td>/cbb/players/steve-aaker-1.html</td>\n",
       "      <td>Steve Aaker</td>\n",
       "      <td>6.1</td>\n",
       "      <td>0.415</td>\n",
       "      <td>2.5</td>\n",
       "      <td>2.3</td>\n",
       "      <td>0.500</td>\n",
       "      <td>1.2</td>\n",
       "      <td>52.0</td>\n",
       "      <td>6/5</td>\n",
       "      <td>3.0</td>\n",
       "      <td>6.2</td>\n",
       "      <td>3.05</td>\n",
       "      <td>5.1</td>\n",
       "      <td>0</td>\n",
       "    </tr>\n",
       "    <tr>\n",
       "      <th>4</th>\n",
       "      <td>/cbb/players/waine-aalto-1.html</td>\n",
       "      <td>Waine Aalto</td>\n",
       "      <td>2.4</td>\n",
       "      <td>0.542</td>\n",
       "      <td>1.3</td>\n",
       "      <td>1.0</td>\n",
       "      <td>0.500</td>\n",
       "      <td>0.5</td>\n",
       "      <td>10.0</td>\n",
       "      <td>5/10</td>\n",
       "      <td>1.1</td>\n",
       "      <td>3.1</td>\n",
       "      <td>1.63</td>\n",
       "      <td>1.5</td>\n",
       "      <td>0</td>\n",
       "    </tr>\n",
       "    <tr>\n",
       "      <th>...</th>\n",
       "      <td>...</td>\n",
       "      <td>...</td>\n",
       "      <td>...</td>\n",
       "      <td>...</td>\n",
       "      <td>...</td>\n",
       "      <td>...</td>\n",
       "      <td>...</td>\n",
       "      <td>...</td>\n",
       "      <td>...</td>\n",
       "      <td>...</td>\n",
       "      <td>...</td>\n",
       "      <td>...</td>\n",
       "      <td>...</td>\n",
       "      <td>...</td>\n",
       "      <td>...</td>\n",
       "    </tr>\n",
       "    <tr>\n",
       "      <th>109656</th>\n",
       "      <td>/cbb/players/lou-zykiewicz-1.html</td>\n",
       "      <td>Lou Zykiewicz</td>\n",
       "      <td>2.7</td>\n",
       "      <td>0.333</td>\n",
       "      <td>0.9</td>\n",
       "      <td>1.8</td>\n",
       "      <td>0.750</td>\n",
       "      <td>1.3</td>\n",
       "      <td>9.0</td>\n",
       "      <td>NaN</td>\n",
       "      <td>NaN</td>\n",
       "      <td>3.1</td>\n",
       "      <td>-4.16</td>\n",
       "      <td>NaN</td>\n",
       "      <td>0</td>\n",
       "    </tr>\n",
       "    <tr>\n",
       "      <th>109657</th>\n",
       "      <td>/cbb/players/jack-zyla-1.html</td>\n",
       "      <td>Jack Zyla</td>\n",
       "      <td>7.7</td>\n",
       "      <td>0.400</td>\n",
       "      <td>3.1</td>\n",
       "      <td>1.2</td>\n",
       "      <td>0.630</td>\n",
       "      <td>0.8</td>\n",
       "      <td>65.0</td>\n",
       "      <td>NaN</td>\n",
       "      <td>1.7</td>\n",
       "      <td>7.0</td>\n",
       "      <td>-12.74</td>\n",
       "      <td>2.0</td>\n",
       "      <td>0</td>\n",
       "    </tr>\n",
       "    <tr>\n",
       "      <th>109658</th>\n",
       "      <td>/cbb/players/michal-zylinski-1.html</td>\n",
       "      <td>Michal Zylinski</td>\n",
       "      <td>1.5</td>\n",
       "      <td>0.333</td>\n",
       "      <td>0.5</td>\n",
       "      <td>0.0</td>\n",
       "      <td>NaN</td>\n",
       "      <td>0.0</td>\n",
       "      <td>2.0</td>\n",
       "      <td>6/4</td>\n",
       "      <td>0.5</td>\n",
       "      <td>1.5</td>\n",
       "      <td>-6.49</td>\n",
       "      <td>0.5</td>\n",
       "      <td>0</td>\n",
       "    </tr>\n",
       "    <tr>\n",
       "      <th>109659</th>\n",
       "      <td>/cbb/players/brock-zylstra-1.html</td>\n",
       "      <td>Brock Zylstra</td>\n",
       "      <td>4.1</td>\n",
       "      <td>0.429</td>\n",
       "      <td>1.8</td>\n",
       "      <td>1.1</td>\n",
       "      <td>0.674</td>\n",
       "      <td>0.7</td>\n",
       "      <td>119.0</td>\n",
       "      <td>6/6</td>\n",
       "      <td>1.3</td>\n",
       "      <td>5.1</td>\n",
       "      <td>3.51</td>\n",
       "      <td>2.8</td>\n",
       "      <td>0</td>\n",
       "    </tr>\n",
       "    <tr>\n",
       "      <th>109660</th>\n",
       "      <td>/cbb/players/gene-zyzda-1.html</td>\n",
       "      <td>Gene Zyzda</td>\n",
       "      <td>1.5</td>\n",
       "      <td>0.313</td>\n",
       "      <td>0.5</td>\n",
       "      <td>0.9</td>\n",
       "      <td>0.417</td>\n",
       "      <td>0.4</td>\n",
       "      <td>52.0</td>\n",
       "      <td>6/8</td>\n",
       "      <td>1.0</td>\n",
       "      <td>1.3</td>\n",
       "      <td>4.77</td>\n",
       "      <td>1.6</td>\n",
       "      <td>0</td>\n",
       "    </tr>\n",
       "  </tbody>\n",
       "</table>\n",
       "<p>109661 rows × 15 columns</p>\n",
       "</div>"
      ],
      "text/plain": [
       "                                        url             name  fgapg  fgpct  \\\n",
       "0          /cbb/players/menghe-anyam-1.html    Menghe a'Nyam    2.1  0.414   \n",
       "1         /cbb/players/jordan-aaberg-1.html    Jordan Aaberg    2.3  0.619   \n",
       "2            /cbb/players/karl-aaker-1.html       Karl Aaker    4.0  0.346   \n",
       "3           /cbb/players/steve-aaker-1.html      Steve Aaker    6.1  0.415   \n",
       "4           /cbb/players/waine-aalto-1.html      Waine Aalto    2.4  0.542   \n",
       "...                                     ...              ...    ...    ...   \n",
       "109656    /cbb/players/lou-zykiewicz-1.html    Lou Zykiewicz    2.7  0.333   \n",
       "109657        /cbb/players/jack-zyla-1.html        Jack Zyla    7.7  0.400   \n",
       "109658  /cbb/players/michal-zylinski-1.html  Michal Zylinski    1.5  0.333   \n",
       "109659    /cbb/players/brock-zylstra-1.html    Brock Zylstra    4.1  0.429   \n",
       "109660       /cbb/players/gene-zyzda-1.html       Gene Zyzda    1.5  0.313   \n",
       "\n",
       "        fgpg  ftapg  ftpct  ftpg  games height  pfpg  ptspg  sospg  trbpg  \\\n",
       "0        0.9    1.2  0.529   0.7   41.0    6/5   2.2    2.4  -4.15    3.0   \n",
       "1        1.5    0.7  0.788   0.6  115.0    6/9   1.6    3.5  -3.07    2.3   \n",
       "2        1.4    0.6  0.611   0.4   92.0    6/5   2.3    4.1   1.37    2.0   \n",
       "3        2.5    2.3  0.500   1.2   52.0    6/5   3.0    6.2   3.05    5.1   \n",
       "4        1.3    1.0  0.500   0.5   10.0   5/10   1.1    3.1   1.63    1.5   \n",
       "...      ...    ...    ...   ...    ...    ...   ...    ...    ...    ...   \n",
       "109656   0.9    1.8  0.750   1.3    9.0    NaN   NaN    3.1  -4.16    NaN   \n",
       "109657   3.1    1.2  0.630   0.8   65.0    NaN   1.7    7.0 -12.74    2.0   \n",
       "109658   0.5    0.0    NaN   0.0    2.0    6/4   0.5    1.5  -6.49    0.5   \n",
       "109659   1.8    1.1  0.674   0.7  119.0    6/6   1.3    5.1   3.51    2.8   \n",
       "109660   0.5    0.9  0.417   0.4   52.0    6/8   1.0    1.3   4.77    1.6   \n",
       "\n",
       "        drafted  \n",
       "0             0  \n",
       "1             0  \n",
       "2             0  \n",
       "3             0  \n",
       "4             0  \n",
       "...         ...  \n",
       "109656        0  \n",
       "109657        0  \n",
       "109658        0  \n",
       "109659        0  \n",
       "109660        0  \n",
       "\n",
       "[109661 rows x 15 columns]"
      ]
     },
     "execution_count": 3,
     "metadata": {},
     "output_type": "execute_result"
    }
   ],
   "source": [
    "#Pull in my csv\n",
    "#====================================\n",
    "df = pd.read_csv(\"combined_ncaa_player_stats3.csv\")\n",
    "df"
   ]
  },
  {
   "cell_type": "code",
   "execution_count": 16,
   "id": "7c5ef03f",
   "metadata": {},
   "outputs": [],
   "source": [
    "#replace NAN values with 0\n",
    "\n",
    "df= df.fillna(0)"
   ]
  },
  {
   "cell_type": "code",
   "execution_count": 17,
   "id": "522e60b0",
   "metadata": {},
   "outputs": [],
   "source": [
    "def CorrMtx(df, dropDuplicates = True):\n",
    "    \n",
    "    # Exclude duplicate correlations by masking uper right values\n",
    "    \n",
    "    if dropDuplicates:    \n",
    "        mask = np.zeros_like(df, dtype=np.bool_)\n",
    "        mask[np.triu_indices_from(mask)] = True\n",
    "    \n",
    "    # Set background color / chart style\n",
    "    sns.set_style(style = 'white')\n",
    "    \n",
    "    # Set up  matplotlib figure\n",
    "    f, ax = plt.subplots(figsize=(16, 12))\n",
    "    \n",
    "    # Add diverging colormap from red to blue\n",
    "    cmap = sns.diverging_palette(250, 10, as_cmap=True)\n",
    "    \n",
    "    # Draw correlation plot with or without duplicates\n",
    "    if dropDuplicates:\n",
    "        sns.heatmap(df, mask=mask, cmap=cmap, \n",
    "                square=True,\n",
    "                linewidth=.5, cbar_kws={\"shrink\": .5}, ax=ax)\n",
    "    else:\n",
    "        sns.heatmap(df, cmap=cmap, \n",
    "                square=True,\n",
    "                linewidth=.5, cbar_kws={\"shrink\": .5}, ax=ax)"
   ]
  },
  {
   "cell_type": "code",
   "execution_count": 18,
   "id": "aeeea7ca",
   "metadata": {},
   "outputs": [
    {
     "data": {
      "text/plain": [
       "<AxesSubplot:>"
      ]
     },
     "execution_count": 18,
     "metadata": {},
     "output_type": "execute_result"
    },
    {
     "data": {
      "image/png": "[encoded data removed]",
      "text/plain": [
       "<Figure size 432x288 with 2 Axes>"
      ]
     },
     "metadata": {},
     "output_type": "display_data"
    }
   ],
   "source": [
    "#Creating a heat map to illustrate the features corrrelation to each other\n",
    "sns.heatmap(df.corr(), center=0)"
   ]
  },
  {
   "cell_type": "code",
   "execution_count": 19,
   "id": "ba4acc0a",
   "metadata": {},
   "outputs": [
    {
     "data": {
      "image/png": "[encoded data removed]",
      "text/plain": [
       "<Figure size 1152x864 with 2 Axes>"
      ]
     },
     "metadata": {},
     "output_type": "display_data"
    }
   ],
   "source": [
    "CorrMtx(df.corr(), dropDuplicates=True)"
   ]
  },
  {
   "cell_type": "code",
   "execution_count": 20,
   "id": "d6472ff0",
   "metadata": {},
   "outputs": [],
   "source": [
    "labels = ['Drafted', 'Not Drafted']"
   ]
  },
  {
   "cell_type": "code",
   "execution_count": 21,
   "id": "5962cbf7",
   "metadata": {},
   "outputs": [
    {
     "data": {
      "text/html": [
       "<div>\n",
       "<style scoped>\n",
       "    .dataframe tbody tr th:only-of-type {\n",
       "        vertical-align: middle;\n",
       "    }\n",
       "\n",
       "    .dataframe tbody tr th {\n",
       "        vertical-align: top;\n",
       "    }\n",
       "\n",
       "    .dataframe thead th {\n",
       "        text-align: right;\n",
       "    }\n",
       "</style>\n",
       "<table border=\"1\" class=\"dataframe\">\n",
       "  <thead>\n",
       "    <tr style=\"text-align: right;\">\n",
       "      <th></th>\n",
       "      <th>fgapg</th>\n",
       "      <th>fgpct</th>\n",
       "      <th>fgpg</th>\n",
       "      <th>ftapg</th>\n",
       "      <th>ftpct</th>\n",
       "      <th>ftpg</th>\n",
       "      <th>games</th>\n",
       "      <th>pfpg</th>\n",
       "      <th>ptspg</th>\n",
       "      <th>sospg</th>\n",
       "      <th>trbpg</th>\n",
       "    </tr>\n",
       "  </thead>\n",
       "  <tbody>\n",
       "    <tr>\n",
       "      <th>0</th>\n",
       "      <td>2.1</td>\n",
       "      <td>0.414</td>\n",
       "      <td>0.9</td>\n",
       "      <td>1.2</td>\n",
       "      <td>0.529</td>\n",
       "      <td>0.7</td>\n",
       "      <td>41.0</td>\n",
       "      <td>2.2</td>\n",
       "      <td>2.4</td>\n",
       "      <td>-4.15</td>\n",
       "      <td>3.0</td>\n",
       "    </tr>\n",
       "    <tr>\n",
       "      <th>1</th>\n",
       "      <td>2.3</td>\n",
       "      <td>0.619</td>\n",
       "      <td>1.5</td>\n",
       "      <td>0.7</td>\n",
       "      <td>0.788</td>\n",
       "      <td>0.6</td>\n",
       "      <td>115.0</td>\n",
       "      <td>1.6</td>\n",
       "      <td>3.5</td>\n",
       "      <td>-3.07</td>\n",
       "      <td>2.3</td>\n",
       "    </tr>\n",
       "    <tr>\n",
       "      <th>2</th>\n",
       "      <td>4.0</td>\n",
       "      <td>0.346</td>\n",
       "      <td>1.4</td>\n",
       "      <td>0.6</td>\n",
       "      <td>0.611</td>\n",
       "      <td>0.4</td>\n",
       "      <td>92.0</td>\n",
       "      <td>2.3</td>\n",
       "      <td>4.1</td>\n",
       "      <td>1.37</td>\n",
       "      <td>2.0</td>\n",
       "    </tr>\n",
       "    <tr>\n",
       "      <th>3</th>\n",
       "      <td>6.1</td>\n",
       "      <td>0.415</td>\n",
       "      <td>2.5</td>\n",
       "      <td>2.3</td>\n",
       "      <td>0.500</td>\n",
       "      <td>1.2</td>\n",
       "      <td>52.0</td>\n",
       "      <td>3.0</td>\n",
       "      <td>6.2</td>\n",
       "      <td>3.05</td>\n",
       "      <td>5.1</td>\n",
       "    </tr>\n",
       "    <tr>\n",
       "      <th>4</th>\n",
       "      <td>2.4</td>\n",
       "      <td>0.542</td>\n",
       "      <td>1.3</td>\n",
       "      <td>1.0</td>\n",
       "      <td>0.500</td>\n",
       "      <td>0.5</td>\n",
       "      <td>10.0</td>\n",
       "      <td>1.1</td>\n",
       "      <td>3.1</td>\n",
       "      <td>1.63</td>\n",
       "      <td>1.5</td>\n",
       "    </tr>\n",
       "    <tr>\n",
       "      <th>...</th>\n",
       "      <td>...</td>\n",
       "      <td>...</td>\n",
       "      <td>...</td>\n",
       "      <td>...</td>\n",
       "      <td>...</td>\n",
       "      <td>...</td>\n",
       "      <td>...</td>\n",
       "      <td>...</td>\n",
       "      <td>...</td>\n",
       "      <td>...</td>\n",
       "      <td>...</td>\n",
       "    </tr>\n",
       "    <tr>\n",
       "      <th>109656</th>\n",
       "      <td>2.7</td>\n",
       "      <td>0.333</td>\n",
       "      <td>0.9</td>\n",
       "      <td>1.8</td>\n",
       "      <td>0.750</td>\n",
       "      <td>1.3</td>\n",
       "      <td>9.0</td>\n",
       "      <td>0.0</td>\n",
       "      <td>3.1</td>\n",
       "      <td>-4.16</td>\n",
       "      <td>0.0</td>\n",
       "    </tr>\n",
       "    <tr>\n",
       "      <th>109657</th>\n",
       "      <td>7.7</td>\n",
       "      <td>0.400</td>\n",
       "      <td>3.1</td>\n",
       "      <td>1.2</td>\n",
       "      <td>0.630</td>\n",
       "      <td>0.8</td>\n",
       "      <td>65.0</td>\n",
       "      <td>1.7</td>\n",
       "      <td>7.0</td>\n",
       "      <td>-12.74</td>\n",
       "      <td>2.0</td>\n",
       "    </tr>\n",
       "    <tr>\n",
       "      <th>109658</th>\n",
       "      <td>1.5</td>\n",
       "      <td>0.333</td>\n",
       "      <td>0.5</td>\n",
       "      <td>0.0</td>\n",
       "      <td>0.000</td>\n",
       "      <td>0.0</td>\n",
       "      <td>2.0</td>\n",
       "      <td>0.5</td>\n",
       "      <td>1.5</td>\n",
       "      <td>-6.49</td>\n",
       "      <td>0.5</td>\n",
       "    </tr>\n",
       "    <tr>\n",
       "      <th>109659</th>\n",
       "      <td>4.1</td>\n",
       "      <td>0.429</td>\n",
       "      <td>1.8</td>\n",
       "      <td>1.1</td>\n",
       "      <td>0.674</td>\n",
       "      <td>0.7</td>\n",
       "      <td>119.0</td>\n",
       "      <td>1.3</td>\n",
       "      <td>5.1</td>\n",
       "      <td>3.51</td>\n",
       "      <td>2.8</td>\n",
       "    </tr>\n",
       "    <tr>\n",
       "      <th>109660</th>\n",
       "      <td>1.5</td>\n",
       "      <td>0.313</td>\n",
       "      <td>0.5</td>\n",
       "      <td>0.9</td>\n",
       "      <td>0.417</td>\n",
       "      <td>0.4</td>\n",
       "      <td>52.0</td>\n",
       "      <td>1.0</td>\n",
       "      <td>1.3</td>\n",
       "      <td>4.77</td>\n",
       "      <td>1.6</td>\n",
       "    </tr>\n",
       "  </tbody>\n",
       "</table>\n",
       "<p>109661 rows × 11 columns</p>\n",
       "</div>"
      ],
      "text/plain": [
       "        fgapg  fgpct  fgpg  ftapg  ftpct  ftpg  games  pfpg  ptspg  sospg  \\\n",
       "0         2.1  0.414   0.9    1.2  0.529   0.7   41.0   2.2    2.4  -4.15   \n",
       "1         2.3  0.619   1.5    0.7  0.788   0.6  115.0   1.6    3.5  -3.07   \n",
       "2         4.0  0.346   1.4    0.6  0.611   0.4   92.0   2.3    4.1   1.37   \n",
       "3         6.1  0.415   2.5    2.3  0.500   1.2   52.0   3.0    6.2   3.05   \n",
       "4         2.4  0.542   1.3    1.0  0.500   0.5   10.0   1.1    3.1   1.63   \n",
       "...       ...    ...   ...    ...    ...   ...    ...   ...    ...    ...   \n",
       "109656    2.7  0.333   0.9    1.8  0.750   1.3    9.0   0.0    3.1  -4.16   \n",
       "109657    7.7  0.400   3.1    1.2  0.630   0.8   65.0   1.7    7.0 -12.74   \n",
       "109658    1.5  0.333   0.5    0.0  0.000   0.0    2.0   0.5    1.5  -6.49   \n",
       "109659    4.1  0.429   1.8    1.1  0.674   0.7  119.0   1.3    5.1   3.51   \n",
       "109660    1.5  0.313   0.5    0.9  0.417   0.4   52.0   1.0    1.3   4.77   \n",
       "\n",
       "        trbpg  \n",
       "0         3.0  \n",
       "1         2.3  \n",
       "2         2.0  \n",
       "3         5.1  \n",
       "4         1.5  \n",
       "...       ...  \n",
       "109656    0.0  \n",
       "109657    2.0  \n",
       "109658    0.5  \n",
       "109659    2.8  \n",
       "109660    1.6  \n",
       "\n",
       "[109661 rows x 11 columns]"
      ]
     },
     "execution_count": 21,
     "metadata": {},
     "output_type": "execute_result"
    }
   ],
   "source": [
    "#Naming my features which will be used for X later\n",
    "#=================================================================================\n",
    "features = df.drop(columns=['drafted','url','name','height'])\n",
    "features"
   ]
  },
  {
   "cell_type": "code",
   "execution_count": 22,
   "id": "690ae2b1",
   "metadata": {},
   "outputs": [],
   "source": [
    "def plot_confusion_matrix(y_true, y_pred, classes,\n",
    "                          normalize=False,\n",
    "                          title=None,\n",
    "                          cmap=plt.cm.Blues):\n",
    "    \n",
    "    #Compute confusion matrix\n",
    "    cmat = pd.crosstab(y_test, test_preds, rownames=['True'], colnames=['Predicted'], margins=True)\n",
    "    print(cmat)\n",
    "    cm = confusion_matrix(y_true, y_pred)\n",
    "    fig, ax = plt.subplots()\n",
    "    im = ax.imshow(cm, interpolation='nearest', cmap=cmap)\n",
    "    ax.figure.colorbar(im, ax=ax)\n",
    "    #Show all ticks...\n",
    "    ax.set(xticks=np.arange(cm.shape[1]),\n",
    "           yticks=np.arange(cm.shape[0]),\n",
    "           # ... and label them with the respective list entries\n",
    "           xticklabels=classes, yticklabels=classes,\n",
    "           title=title,\n",
    "           ylabel='True label',\n",
    "           xlabel='Predicted label')\n",
    "\n",
    "    #Rotate the tick labels and set their alignment.\n",
    "    plt.setp(ax.get_xticklabels(), rotation=45, ha=\"right\",\n",
    "             rotation_mode=\"anchor\")\n",
    "\n",
    "    #Loop over data dimensions and create text annotations.\n",
    "    fmt = '.2f' if normalize else 'd'\n",
    "    thresh = cm.max() / 2.\n",
    "    for i in range(cm.shape[0]):\n",
    "        for j in range(cm.shape[1]):\n",
    "            ax.text(j, i, format(cm[i, j], fmt),\n",
    "                    ha=\"center\", va=\"center\",\n",
    "                    color=\"white\" if cm[i, j] > thresh else \"black\")\n",
    "    fig.tight_layout()\n",
    "    return ax"
   ]
  },
  {
   "cell_type": "markdown",
   "id": "d24c1e83",
   "metadata": {},
   "source": [
    "# K Nearest Neighbor"
   ]
  },
  {
   "cell_type": "code",
   "execution_count": 23,
   "id": "5f5da3ae",
   "metadata": {},
   "outputs": [],
   "source": [
    "# import libraries\n",
    "from sklearn.preprocessing import StandardScaler\n",
    "from sklearn.neighbors import KNeighborsClassifier"
   ]
  },
  {
   "cell_type": "code",
   "execution_count": 24,
   "id": "8f5aea4d",
   "metadata": {},
   "outputs": [],
   "source": [
    "knn = KNeighborsClassifier(n_neighbors=7)"
   ]
  },
  {
   "cell_type": "code",
   "execution_count": 25,
   "id": "2d890dfc",
   "metadata": {},
   "outputs": [],
   "source": [
    "#Variables\n",
    "#========================================\n",
    "X = features\n",
    "y = df['drafted'].astype(int)"
   ]
  },
  {
   "cell_type": "code",
   "execution_count": 26,
   "id": "4c722f5b",
   "metadata": {},
   "outputs": [],
   "source": [
    "#Train test\n",
    "X_train, X_test, y_train, y_test = train_test_split(X, y, test_size=0.33, random_state=42)"
   ]
  },
  {
   "cell_type": "markdown",
   "id": "9da82edc",
   "metadata": {},
   "source": [
    "# Cross Validation"
   ]
  },
  {
   "cell_type": "code",
   "execution_count": 27,
   "id": "0db24671",
   "metadata": {},
   "outputs": [
    {
     "name": "stdout",
     "output_type": "stream",
     "text": [
      "Mean Cross Validation Score: 97.24%\n"
     ]
    }
   ],
   "source": [
    "knn_cv_score = cross_val_score(knn, X_train, y_train, cv=3)\n",
    "mean_knn_cv_score = np.mean(knn_cv_score)\n",
    "\n",
    "print(\"Mean Cross Validation Score: {:.4}%\".format(mean_knn_cv_score * 100))"
   ]
  },
  {
   "cell_type": "markdown",
   "id": "33931c1c",
   "metadata": {},
   "source": [
    "# Model Testing"
   ]
  },
  {
   "cell_type": "code",
   "execution_count": 28,
   "id": "e88627b2",
   "metadata": {},
   "outputs": [
    {
     "data": {
      "text/plain": [
       "KNeighborsClassifier(n_neighbors=7)"
      ]
     },
     "execution_count": 28,
     "metadata": {},
     "output_type": "execute_result"
    }
   ],
   "source": [
    "knn.fit(X, y)"
   ]
  },
  {
   "cell_type": "code",
   "execution_count": 29,
   "id": "79460e53",
   "metadata": {},
   "outputs": [],
   "source": [
    "#Predict the response for new observations\n",
    "#==========================================\n",
    "test_preds = knn.predict(X_test)"
   ]
  },
  {
   "cell_type": "code",
   "execution_count": 30,
   "id": "a367e75b",
   "metadata": {},
   "outputs": [
    {
     "data": {
      "text/plain": [
       "0.9783083257343391"
      ]
     },
     "execution_count": 30,
     "metadata": {},
     "output_type": "execute_result"
    }
   ],
   "source": [
    "#how well did our model predict our correct class? \n",
    "accuracy_score(y_test, test_preds)"
   ]
  },
  {
   "cell_type": "code",
   "execution_count": 31,
   "id": "7e213527",
   "metadata": {},
   "outputs": [
    {
     "name": "stdout",
     "output_type": "stream",
     "text": [
      "Precision Score: 0.7512520868113522\n",
      "Recall Score: 0.4143646408839779\n",
      "Accuracy Score: 0.9783083257343391\n",
      "F1 Score: 0.5341246290801187\n",
      "\n",
      "              precision    recall  f1-score   support\n",
      "\n",
      "           0       0.98      1.00      0.99     35103\n",
      "           1       0.75      0.41      0.53      1086\n",
      "\n",
      "    accuracy                           0.98     36189\n",
      "   macro avg       0.87      0.71      0.76     36189\n",
      "weighted avg       0.98      0.98      0.98     36189\n",
      "\n"
     ]
    }
   ],
   "source": [
    "def print_metrics(labels, preds):\n",
    "    print(\"Precision Score: {}\".format(precision_score(labels, preds)))\n",
    "    print(\"Recall Score: {}\".format(recall_score(labels, preds)))\n",
    "    print(\"Accuracy Score: {}\".format(accuracy_score(labels, preds)))\n",
    "    print(\"F1 Score: {}\".format(f1_score(labels, preds)))\n",
    "    \n",
    "print_metrics(y_test, test_preds)\n",
    "print(f'\\n{classification_report(y_test, test_preds)}')"
   ]
  },
  {
   "cell_type": "code",
   "execution_count": 32,
   "id": "33a05c0d",
   "metadata": {},
   "outputs": [
    {
     "name": "stdout",
     "output_type": "stream",
     "text": [
      "Predicted      0    1    All\n",
      "True                        \n",
      "0          34954  149  35103\n",
      "1            636  450   1086\n",
      "All        35590  599  36189\n"
     ]
    },
    {
     "data": {
      "image/png": "[encoded data removed]",
      "text/plain": [
       "<Figure size 432x288 with 2 Axes>"
      ]
     },
     "metadata": {},
     "output_type": "display_data"
    }
   ],
   "source": [
    "np.set_printoptions(precision=1)\n",
    "\n",
    "# Plot non-normalized confusion matrix\n",
    "plot_confusion_matrix(y_test, test_preds, classes=labels,\n",
    "                      title='Confusion matrix')\n",
    "\n",
    "plt.show()"
   ]
  },
  {
   "cell_type": "markdown",
   "id": "5cbed7b2",
   "metadata": {},
   "source": [
    "# Search Optimal Value Of K for KNN"
   ]
  },
  {
   "cell_type": "code",
   "execution_count": 33,
   "id": "5ff09ac7",
   "metadata": {},
   "outputs": [],
   "source": [
    "def find_best_k(X_train, y_train, X_test, y_test, min_k=1, max_k=25):\n",
    "    best_k = 0\n",
    "    best_score = 0.0\n",
    "    for k in range(min_k, max_k+1, 2):\n",
    "        knn = KNeighborsClassifier(n_neighbors=k)\n",
    "        knn.fit(X_train, y_train)\n",
    "        preds = knn.predict(X_test)\n",
    "        f1 = f1_score(y_test, preds)\n",
    "        if f1 > best_score:\n",
    "            best_k = k\n",
    "            best_score = f1\n",
    "    \n",
    "    print(\"Best Value for k: {}\".format(best_k))\n",
    "    print(\"F1-Score: {}\".format(best_score))"
   ]
  },
  {
   "cell_type": "code",
   "execution_count": 34,
   "id": "81c4ea9b",
   "metadata": {},
   "outputs": [
    {
     "name": "stdout",
     "output_type": "stream",
     "text": [
      "Best Value for k: 5\n",
      "F1-Score: 0.4324956165984804\n"
     ]
    }
   ],
   "source": [
    "find_best_k(X_train, y_train, X_test, y_test)"
   ]
  },
  {
   "cell_type": "code",
   "execution_count": 35,
   "id": "7eb8760c",
   "metadata": {},
   "outputs": [
    {
     "name": "stdout",
     "output_type": "stream",
     "text": [
      "[0.9626818020601001, 0.9655246164843179]\n"
     ]
    }
   ],
   "source": [
    "# search for an optimal value of K for KNN\n",
    "k_range = list(range(1, 3))\n",
    "k_scores = []\n",
    "for k in k_range:\n",
    "    knn = KNeighborsClassifier(n_neighbors=k)\n",
    "    knn.fit(X_train, y_train)\n",
    "    y_predict = knn.predict(X_test)\n",
    "    score = f1_score(y_test, y_predict, average='weighted')\n",
    "    k_scores.append( score)\n",
    "print(k_scores)"
   ]
  },
  {
   "cell_type": "code",
   "execution_count": 36,
   "id": "5fc22465",
   "metadata": {},
   "outputs": [
    {
     "data": {
      "image/png": "[encoded data removed]",
      "text/plain": [
       "<Figure size 864x432 with 1 Axes>"
      ]
     },
     "metadata": {},
     "output_type": "display_data"
    }
   ],
   "source": [
    "import matplotlib.pyplot as plt  \n",
    "\n",
    "plt.figure(figsize=(12, 6))  \n",
    "plt.plot(range(1, 3), k_scores, color='red', linestyle='dashed', marker='o',  \n",
    "         markerfacecolor='blue', markersize=10)\n",
    "plt.title('F1 score by K Value')  \n",
    "plt.xlabel('K Value')  \n",
    "plt.ylabel('F1 Score') \n",
    "plt.show()"
   ]
  },
  {
   "cell_type": "markdown",
   "id": "8a395d4a",
   "metadata": {},
   "source": [
    "# Search Optimal Value Of K for KNN Standard Scalar"
   ]
  },
  {
   "cell_type": "code",
   "execution_count": 37,
   "id": "c4644b7a",
   "metadata": {},
   "outputs": [],
   "source": [
    "def find_best_k(X_train, y_train, X_test, y_test, min_k=1, max_k=25):\n",
    "    best_k = 0\n",
    "    best_score = 0.0\n",
    "    for k in range(min_k, max_k+1, 2):\n",
    "        knn = KNeighborsClassifier(n_neighbors=k)\n",
    "        knn.fit(X_train, y_train)\n",
    "        preds = knn.predict(X_test)\n",
    "        f1 = f1_score(y_test, preds)\n",
    "        if f1 > best_score:\n",
    "            best_k = k\n",
    "            best_score = f1\n",
    "    \n",
    "    print(\"Best Value for k: {}\".format(best_k))\n",
    "    print(\"F1-Score: {}\".format(best_score))"
   ]
  },
  {
   "cell_type": "code",
   "execution_count": 38,
   "id": "63368125",
   "metadata": {},
   "outputs": [],
   "source": [
    "scaler = StandardScaler()  \n",
    "scaler.fit(X_train)\n",
    "\n",
    "X_train_scaled = scaler.transform(X_train)  \n",
    "X_test_scaled = scaler.transform(X_test)  \n",
    "\n",
    "\n",
    "model = KNeighborsClassifier(n_neighbors= 21)\n",
    "model.fit(X_train_scaled, y_train)\n",
    "\n",
    "test_pred_scaled = model.predict(X_test_scaled)"
   ]
  },
  {
   "cell_type": "code",
   "execution_count": 39,
   "id": "acb3a1be",
   "metadata": {},
   "outputs": [
    {
     "name": "stdout",
     "output_type": "stream",
     "text": [
      "Best Value for k: 3\n",
      "F1-Score: 0.39346110484780156\n"
     ]
    }
   ],
   "source": [
    "find_best_k(X_train_scaled, y_train, X_test_scaled, y_test)"
   ]
  },
  {
   "cell_type": "code",
   "execution_count": 40,
   "id": "1fe2d71f",
   "metadata": {},
   "outputs": [
    {
     "name": "stdout",
     "output_type": "stream",
     "text": [
      "Precision Score: 0.7176781002638523\n",
      "Recall Score: 0.2504604051565378\n",
      "Accuracy Score: 0.9745502777086961\n",
      "F1 Score: 0.37133105802047783\n",
      "\n",
      "              precision    recall  f1-score   support\n",
      "\n",
      "           0       0.98      1.00      0.99     35103\n",
      "           1       0.72      0.25      0.37      1086\n",
      "\n",
      "    accuracy                           0.97     36189\n",
      "   macro avg       0.85      0.62      0.68     36189\n",
      "weighted avg       0.97      0.97      0.97     36189\n",
      "\n"
     ]
    }
   ],
   "source": [
    "def print_metrics(labels, preds):\n",
    "    print(\"Precision Score: {}\".format(precision_score(labels, preds)))\n",
    "    print(\"Recall Score: {}\".format(recall_score(labels, preds)))\n",
    "    print(\"Accuracy Score: {}\".format(accuracy_score(labels, preds)))\n",
    "    print(\"F1 Score: {}\".format(f1_score(labels, preds)))\n",
    "    \n",
    "print_metrics(y_test, test_pred_scaled)\n",
    "# print(confusion_matrix(y_test, test_pred_scaled, labels=None, sample_weight=None))\n",
    "print(f'\\n{classification_report(y_test, test_pred_scaled)}')"
   ]
  },
  {
   "cell_type": "code",
   "execution_count": 41,
   "id": "a64d9f3f",
   "metadata": {},
   "outputs": [
    {
     "name": "stdout",
     "output_type": "stream",
     "text": [
      "Predicted      0    1    All\n",
      "True                        \n",
      "0          34954  149  35103\n",
      "1            636  450   1086\n",
      "All        35590  599  36189\n"
     ]
    },
    {
     "data": {
      "image/png": "[encoded data removed]",
      "text/plain": [
       "<Figure size 432x288 with 2 Axes>"
      ]
     },
     "metadata": {},
     "output_type": "display_data"
    }
   ],
   "source": [
    "np.set_printoptions(precision=1)\n",
    "\n",
    "# Plot non-normalized confusion matrix\n",
    "plot_confusion_matrix(y_test, test_pred_scaled, classes=labels,\n",
    "                      title='Scaled Knn Confusion matrix')\n",
    "\n",
    "plt.show()"
   ]
  },
  {
   "cell_type": "code",
   "execution_count": 42,
   "id": "72169155",
   "metadata": {},
   "outputs": [
    {
     "data": {
      "image/png": "[encoded data removed]",
      "text/plain": [
       "<Figure size 864x432 with 1 Axes>"
      ]
     },
     "metadata": {},
     "output_type": "display_data"
    }
   ],
   "source": [
    "import matplotlib.pyplot as plt  \n",
    "\n",
    "plt.figure(figsize=(12, 6))  \n",
    "plt.plot(range(1, 3), k_scores, color='red', linestyle='dashed', marker='o',  \n",
    "         markerfacecolor='blue', markersize=10)\n",
    "plt.title('F1 score by K Value Scaled')  \n",
    "plt.xlabel('K Value')  \n",
    "plt.ylabel('F1 Score') \n",
    "plt.show()"
   ]
  },
  {
   "cell_type": "markdown",
   "id": "a1416c13",
   "metadata": {},
   "source": [
    "# Grid Search KNN"
   ]
  },
  {
   "cell_type": "code",
   "execution_count": 43,
   "id": "d68532ec",
   "metadata": {},
   "outputs": [
    {
     "name": "stdout",
     "output_type": "stream",
     "text": [
      "Fitting 3 folds for each of 20 candidates, totalling 60 fits\n"
     ]
    }
   ],
   "source": [
    "knn_grid_param = {'n_neighbors': [3,5,9,17,21],\n",
    "                 'weights': ['uniform', 'distance'],\n",
    "                 'metric': ['euclidean', 'manhattan'] }\n",
    "knn_grid_search = GridSearchCV(knn, knn_grid_param, verbose=1, cv=3, n_jobs=-1)\n",
    "\n",
    "knn_gs_results = knn_grid_search.fit(X_train, y_train)"
   ]
  },
  {
   "cell_type": "code",
   "execution_count": 44,
   "id": "a5391f2f",
   "metadata": {},
   "outputs": [],
   "source": [
    "#Predict values based on new parameters\n",
    "y_pred_acc = knn_grid_search.predict(X_test)"
   ]
  },
  {
   "cell_type": "code",
   "execution_count": 45,
   "id": "4b82899c",
   "metadata": {},
   "outputs": [
    {
     "name": "stdout",
     "output_type": "stream",
     "text": [
      "Accuracy Score : 0.9753516261847522\n",
      "Precision Score : 0.7287735849056604\n",
      "Recall Score : 0.2845303867403315\n",
      "F1 Score : 0.409271523178808\n",
      "Best Parameter Found:\n",
      "{'metric': 'euclidean', 'n_neighbors': 21, 'weights': 'distance'}\n",
      "\n",
      "Best Estimator Found:\n",
      "KNeighborsClassifier(metric='euclidean', n_neighbors=21, weights='distance')\n",
      "Best i Score Found:\n",
      "0.973867594141868\n"
     ]
    }
   ],
   "source": [
    "# New Model Evaluation metrics \n",
    "# print(\"Mean Training Score:\", knn_gs_training_score*100)\n",
    "# print(\"Mean Testing Score:\", knn_gs_testing_score*100)\n",
    "print('Accuracy Score : ' + str(accuracy_score(y_test,y_pred_acc)))\n",
    "print('Precision Score : ' + str(precision_score(y_test,y_pred_acc)))\n",
    "print('Recall Score : ' + str(recall_score(y_test,y_pred_acc)))\n",
    "print('F1 Score : ' + str(f1_score(y_test,y_pred_acc)))\n",
    "print(\"Best Parameter Found:\")\n",
    "print(knn_grid_search.best_params_)\n",
    "print(\"\\nBest Estimator Found:\")\n",
    "print(knn_grid_search.best_estimator_)\n",
    "print(\"Best i Score Found:\")\n",
    "print(knn_grid_search.best_score_)"
   ]
  },
  {
   "cell_type": "markdown",
   "id": "6388ee23",
   "metadata": {},
   "source": [
    "# Grid Search Confusion Matrix"
   ]
  },
  {
   "cell_type": "code",
   "execution_count": 46,
   "id": "2f4ced30",
   "metadata": {},
   "outputs": [
    {
     "name": "stdout",
     "output_type": "stream",
     "text": [
      "Predicted      0    1    All\n",
      "True                        \n",
      "0          34954  149  35103\n",
      "1            636  450   1086\n",
      "All        35590  599  36189\n"
     ]
    },
    {
     "data": {
      "image/png": "[encoded data removed]",
      "text/plain": [
       "<Figure size 432x288 with 2 Axes>"
      ]
     },
     "metadata": {},
     "output_type": "display_data"
    }
   ],
   "source": [
    "np.set_printoptions(precision=1)\n",
    "\n",
    "# Plot non-normalized confusion matrix\n",
    "plot_confusion_matrix(y_test, y_pred_acc, classes=labels,\n",
    "                      title='Grid Search KNN Confusion matrix')\n",
    "\n",
    "plt.show()"
   ]
  },
  {
   "cell_type": "code",
   "execution_count": null,
   "id": "0018c04d",
   "metadata": {},
   "outputs": [],
   "source": []
  },
  {
   "cell_type": "code",
   "execution_count": null,
   "id": "5cdc9660",
   "metadata": {},
   "outputs": [],
   "source": []
  },
  {
   "cell_type": "code",
   "execution_count": null,
   "id": "a728d022",
   "metadata": {},
   "outputs": [],
   "source": []
  },
  {
   "cell_type": "code",
   "execution_count": null,
   "id": "9977838b",
   "metadata": {},
   "outputs": [],
   "source": []
  }
 ],
 "metadata": {
  "kernelspec": {
   "display_name": "Python 3",
   "language": "python",
   "name": "python3"
  },
  "language_info": {
   "codemirror_mode": {
    "name": "ipython",
    "version": 3
   },
   "file_extension": ".py",
   "mimetype": "text/x-python",
   "name": "python",
   "nbconvert_exporter": "python",
   "pygments_lexer": "ipython3",
   "version": "3.8.8"
  }
 },
 "nbformat": 4,
 "nbformat_minor": 5
}
