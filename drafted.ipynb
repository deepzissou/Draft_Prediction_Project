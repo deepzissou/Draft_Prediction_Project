{
 "cells": [
  {
   "cell_type": "code",
   "execution_count": 1,
   "id": "6d86b726",
   "metadata": {},
   "outputs": [],
   "source": [
    "# Import our dependencies\n",
    "import pandas as pd\n",
    "%matplotlib inline\n",
    "from matplotlib import pyplot as plt\n",
    "from sklearn.datasets import make_blobs\n",
    "import sklearn as skl\n",
    "import tensorflow as tf\n",
    "import numpy as np"
   ]
  },
  {
   "cell_type": "code",
   "execution_count": 2,
   "id": "5aa4af7c",
   "metadata": {},
   "outputs": [],
   "source": [
    "from sklearn.decomposition import PCA\n",
    "from sklearn.pipeline import Pipeline\n",
    "from sklearn.preprocessing import StandardScaler\n",
    "from sklearn.model_selection import GridSearchCV\n",
    "from sklearn.model_selection import train_test_split\n",
    "from sklearn.linear_model import LogisticRegression\n",
    "\n",
    "from pathlib import Path"
   ]
  },
  {
   "cell_type": "code",
   "execution_count": 3,
   "id": "fd68d233",
   "metadata": {},
   "outputs": [],
   "source": [
    "#bring in csv of drafted players\n",
    "players_csv = \"namedPlayers.csv\""
   ]
  },
  {
   "cell_type": "code",
   "execution_count": 4,
   "id": "fbfe3ae4",
   "metadata": {},
   "outputs": [],
   "source": [
    "drafted_df = pd.read_csv(players_csv)"
   ]
  },
  {
   "cell_type": "code",
   "execution_count": 5,
   "id": "0581f129",
   "metadata": {},
   "outputs": [
    {
     "data": {
      "text/html": [
       "<div>\n",
       "<style scoped>\n",
       "    .dataframe tbody tr th:only-of-type {\n",
       "        vertical-align: middle;\n",
       "    }\n",
       "\n",
       "    .dataframe tbody tr th {\n",
       "        vertical-align: top;\n",
       "    }\n",
       "\n",
       "    .dataframe thead th {\n",
       "        text-align: right;\n",
       "    }\n",
       "</style>\n",
       "<table border=\"1\" class=\"dataframe\">\n",
       "  <thead>\n",
       "    <tr style=\"text-align: right;\">\n",
       "      <th></th>\n",
       "      <th>Unnamed: 0</th>\n",
       "      <th>url</th>\n",
       "      <th>name</th>\n",
       "      <th>active_from</th>\n",
       "      <th>active_to</th>\n",
       "      <th>position</th>\n",
       "      <th>college</th>\n",
       "      <th>height</th>\n",
       "      <th>weight</th>\n",
       "      <th>birth_date</th>\n",
       "      <th>...</th>\n",
       "      <th>NCAA__3ptpg</th>\n",
       "      <th>NCAA_efgpct</th>\n",
       "      <th>NCAA_fgapg</th>\n",
       "      <th>NCAA_fgpct</th>\n",
       "      <th>NCAA_fgpg</th>\n",
       "      <th>NCAA_ft</th>\n",
       "      <th>NCAA_ftapg</th>\n",
       "      <th>NCAA_ftpg</th>\n",
       "      <th>NCAA_games</th>\n",
       "      <th>NCAA_ppg</th>\n",
       "    </tr>\n",
       "  </thead>\n",
       "  <tbody>\n",
       "    <tr>\n",
       "      <th>0</th>\n",
       "      <td>0</td>\n",
       "      <td>/players/a/abdelal01.html</td>\n",
       "      <td>Alaa Abdelnaby</td>\n",
       "      <td>1991</td>\n",
       "      <td>1995</td>\n",
       "      <td>F-C</td>\n",
       "      <td>Duke</td>\n",
       "      <td>6-10</td>\n",
       "      <td>240.0</td>\n",
       "      <td>June 24, 1968</td>\n",
       "      <td>...</td>\n",
       "      <td>0.0</td>\n",
       "      <td>NaN</td>\n",
       "      <td>5.6</td>\n",
       "      <td>0.599</td>\n",
       "      <td>3.3</td>\n",
       "      <td>0.728</td>\n",
       "      <td>2.5</td>\n",
       "      <td>1.8</td>\n",
       "      <td>134.0</td>\n",
       "      <td>8.5</td>\n",
       "    </tr>\n",
       "    <tr>\n",
       "      <th>1</th>\n",
       "      <td>1</td>\n",
       "      <td>/players/a/abdulza01.html</td>\n",
       "      <td>Zaid Abdul-Aziz</td>\n",
       "      <td>1969</td>\n",
       "      <td>1978</td>\n",
       "      <td>C-F</td>\n",
       "      <td>Iowa State</td>\n",
       "      <td>6-9</td>\n",
       "      <td>235.0</td>\n",
       "      <td>April 7, 1946</td>\n",
       "      <td>...</td>\n",
       "      <td>NaN</td>\n",
       "      <td>NaN</td>\n",
       "      <td>16.8</td>\n",
       "      <td>0.465</td>\n",
       "      <td>7.8</td>\n",
       "      <td>0.645</td>\n",
       "      <td>10.4</td>\n",
       "      <td>6.7</td>\n",
       "      <td>75.0</td>\n",
       "      <td>22.3</td>\n",
       "    </tr>\n",
       "    <tr>\n",
       "      <th>2</th>\n",
       "      <td>2</td>\n",
       "      <td>/players/a/abdulka01.html</td>\n",
       "      <td>Kareem Abdul-Jabbar</td>\n",
       "      <td>1970</td>\n",
       "      <td>1989</td>\n",
       "      <td>C</td>\n",
       "      <td>UCLA</td>\n",
       "      <td>7-2</td>\n",
       "      <td>225.0</td>\n",
       "      <td>April 16, 1947</td>\n",
       "      <td>...</td>\n",
       "      <td>NaN</td>\n",
       "      <td>NaN</td>\n",
       "      <td>16.8</td>\n",
       "      <td>0.639</td>\n",
       "      <td>10.7</td>\n",
       "      <td>0.628</td>\n",
       "      <td>7.9</td>\n",
       "      <td>5.0</td>\n",
       "      <td>88.0</td>\n",
       "      <td>26.4</td>\n",
       "    </tr>\n",
       "    <tr>\n",
       "      <th>3</th>\n",
       "      <td>3</td>\n",
       "      <td>/players/a/abdulma02.html</td>\n",
       "      <td>Mahmoud Abdul-Rauf</td>\n",
       "      <td>1991</td>\n",
       "      <td>2001</td>\n",
       "      <td>G</td>\n",
       "      <td>LSU</td>\n",
       "      <td>6-1</td>\n",
       "      <td>162.0</td>\n",
       "      <td>March 9, 1969</td>\n",
       "      <td>...</td>\n",
       "      <td>2.7</td>\n",
       "      <td>NaN</td>\n",
       "      <td>21.9</td>\n",
       "      <td>0.474</td>\n",
       "      <td>10.4</td>\n",
       "      <td>0.863</td>\n",
       "      <td>6.4</td>\n",
       "      <td>5.5</td>\n",
       "      <td>64.0</td>\n",
       "      <td>29.0</td>\n",
       "    </tr>\n",
       "    <tr>\n",
       "      <th>4</th>\n",
       "      <td>4</td>\n",
       "      <td>/players/a/abdulta01.html</td>\n",
       "      <td>Tariq Abdul-Wahad</td>\n",
       "      <td>1998</td>\n",
       "      <td>2003</td>\n",
       "      <td>F</td>\n",
       "      <td>Michigan, San Jose State</td>\n",
       "      <td>6-6</td>\n",
       "      <td>223.0</td>\n",
       "      <td>November 3, 1974</td>\n",
       "      <td>...</td>\n",
       "      <td>0.6</td>\n",
       "      <td>NaN</td>\n",
       "      <td>10.4</td>\n",
       "      <td>0.477</td>\n",
       "      <td>4.9</td>\n",
       "      <td>0.726</td>\n",
       "      <td>4.4</td>\n",
       "      <td>3.2</td>\n",
       "      <td>87.0</td>\n",
       "      <td>13.6</td>\n",
       "    </tr>\n",
       "  </tbody>\n",
       "</table>\n",
       "<p>5 rows × 34 columns</p>\n",
       "</div>"
      ],
      "text/plain": [
       "   Unnamed: 0                        url                 name  active_from  \\\n",
       "0           0  /players/a/abdelal01.html       Alaa Abdelnaby         1991   \n",
       "1           1  /players/a/abdulza01.html      Zaid Abdul-Aziz         1969   \n",
       "2           2  /players/a/abdulka01.html  Kareem Abdul-Jabbar         1970   \n",
       "3           3  /players/a/abdulma02.html   Mahmoud Abdul-Rauf         1991   \n",
       "4           4  /players/a/abdulta01.html    Tariq Abdul-Wahad         1998   \n",
       "\n",
       "   active_to position                   college height  weight  \\\n",
       "0       1995      F-C                      Duke   6-10   240.0   \n",
       "1       1978      C-F                Iowa State    6-9   235.0   \n",
       "2       1989        C                      UCLA    7-2   225.0   \n",
       "3       2001        G                       LSU    6-1   162.0   \n",
       "4       2003        F  Michigan, San Jose State    6-6   223.0   \n",
       "\n",
       "         birth_date  ...  NCAA__3ptpg  NCAA_efgpct  NCAA_fgapg  NCAA_fgpct  \\\n",
       "0     June 24, 1968  ...          0.0          NaN         5.6       0.599   \n",
       "1     April 7, 1946  ...          NaN          NaN        16.8       0.465   \n",
       "2    April 16, 1947  ...          NaN          NaN        16.8       0.639   \n",
       "3     March 9, 1969  ...          2.7          NaN        21.9       0.474   \n",
       "4  November 3, 1974  ...          0.6          NaN        10.4       0.477   \n",
       "\n",
       "   NCAA_fgpg  NCAA_ft  NCAA_ftapg  NCAA_ftpg  NCAA_games  NCAA_ppg  \n",
       "0        3.3    0.728         2.5        1.8       134.0       8.5  \n",
       "1        7.8    0.645        10.4        6.7        75.0      22.3  \n",
       "2       10.7    0.628         7.9        5.0        88.0      26.4  \n",
       "3       10.4    0.863         6.4        5.5        64.0      29.0  \n",
       "4        4.9    0.726         4.4        3.2        87.0      13.6  \n",
       "\n",
       "[5 rows x 34 columns]"
      ]
     },
     "execution_count": 5,
     "metadata": {},
     "output_type": "execute_result"
    }
   ],
   "source": [
    "drafted_df.head(5)"
   ]
  },
  {
   "cell_type": "code",
   "execution_count": 6,
   "id": "562e75ea",
   "metadata": {},
   "outputs": [
    {
     "name": "stdout",
     "output_type": "stream",
     "text": [
      "0       82.0\n",
      "1       81.0\n",
      "2       86.0\n",
      "3       73.0\n",
      "4       78.0\n",
      "        ... \n",
      "4980    82.0\n",
      "4981    85.0\n",
      "4982    73.0\n",
      "4983    84.0\n",
      "4984    75.0\n",
      "Name: height, Length: 4985, dtype: float64\n"
     ]
    }
   ],
   "source": [
    "#change height into inches\n",
    "def parse_ht(ht):\n",
    "    # format: 7' 0.0\"\n",
    "    ht_ = ht.split(\"-\")\n",
    "    ft_ = float(ht_[0])\n",
    "    in_ = float(ht_[1])\n",
    "    return (12*ft_) + in_\n",
    "    drafted_df[\"height\"] = drafted_df[\"height\"].apply(parse_ht(ht))\n",
    "\n",
    "print (drafted_df[\"height\"].apply(lambda x:parse_ht(x)))"
   ]
  },
  {
   "cell_type": "code",
   "execution_count": 7,
   "id": "ddb2a1f7",
   "metadata": {},
   "outputs": [
    {
     "data": {
      "text/html": [
       "<div>\n",
       "<style scoped>\n",
       "    .dataframe tbody tr th:only-of-type {\n",
       "        vertical-align: middle;\n",
       "    }\n",
       "\n",
       "    .dataframe tbody tr th {\n",
       "        vertical-align: top;\n",
       "    }\n",
       "\n",
       "    .dataframe thead th {\n",
       "        text-align: right;\n",
       "    }\n",
       "</style>\n",
       "<table border=\"1\" class=\"dataframe\">\n",
       "  <thead>\n",
       "    <tr style=\"text-align: right;\">\n",
       "      <th></th>\n",
       "      <th>Unnamed: 0</th>\n",
       "      <th>url</th>\n",
       "      <th>name</th>\n",
       "      <th>active_from</th>\n",
       "      <th>active_to</th>\n",
       "      <th>position</th>\n",
       "      <th>college</th>\n",
       "      <th>height</th>\n",
       "      <th>weight</th>\n",
       "      <th>birth_date</th>\n",
       "      <th>...</th>\n",
       "      <th>NCAA__3ptpg</th>\n",
       "      <th>NCAA_efgpct</th>\n",
       "      <th>NCAA_fgapg</th>\n",
       "      <th>NCAA_fgpct</th>\n",
       "      <th>NCAA_fgpg</th>\n",
       "      <th>NCAA_ft</th>\n",
       "      <th>NCAA_ftapg</th>\n",
       "      <th>NCAA_ftpg</th>\n",
       "      <th>NCAA_games</th>\n",
       "      <th>NCAA_ppg</th>\n",
       "    </tr>\n",
       "  </thead>\n",
       "  <tbody>\n",
       "    <tr>\n",
       "      <th>0</th>\n",
       "      <td>0</td>\n",
       "      <td>/players/a/abdelal01.html</td>\n",
       "      <td>Alaa Abdelnaby</td>\n",
       "      <td>1991</td>\n",
       "      <td>1995</td>\n",
       "      <td>F-C</td>\n",
       "      <td>Duke</td>\n",
       "      <td>82.0</td>\n",
       "      <td>240.0</td>\n",
       "      <td>June 24, 1968</td>\n",
       "      <td>...</td>\n",
       "      <td>0.0</td>\n",
       "      <td>NaN</td>\n",
       "      <td>5.6</td>\n",
       "      <td>0.599</td>\n",
       "      <td>3.3</td>\n",
       "      <td>0.728</td>\n",
       "      <td>2.5</td>\n",
       "      <td>1.8</td>\n",
       "      <td>134.0</td>\n",
       "      <td>8.5</td>\n",
       "    </tr>\n",
       "    <tr>\n",
       "      <th>1</th>\n",
       "      <td>1</td>\n",
       "      <td>/players/a/abdulza01.html</td>\n",
       "      <td>Zaid Abdul-Aziz</td>\n",
       "      <td>1969</td>\n",
       "      <td>1978</td>\n",
       "      <td>C-F</td>\n",
       "      <td>Iowa State</td>\n",
       "      <td>81.0</td>\n",
       "      <td>235.0</td>\n",
       "      <td>April 7, 1946</td>\n",
       "      <td>...</td>\n",
       "      <td>NaN</td>\n",
       "      <td>NaN</td>\n",
       "      <td>16.8</td>\n",
       "      <td>0.465</td>\n",
       "      <td>7.8</td>\n",
       "      <td>0.645</td>\n",
       "      <td>10.4</td>\n",
       "      <td>6.7</td>\n",
       "      <td>75.0</td>\n",
       "      <td>22.3</td>\n",
       "    </tr>\n",
       "    <tr>\n",
       "      <th>2</th>\n",
       "      <td>2</td>\n",
       "      <td>/players/a/abdulka01.html</td>\n",
       "      <td>Kareem Abdul-Jabbar</td>\n",
       "      <td>1970</td>\n",
       "      <td>1989</td>\n",
       "      <td>C</td>\n",
       "      <td>UCLA</td>\n",
       "      <td>86.0</td>\n",
       "      <td>225.0</td>\n",
       "      <td>April 16, 1947</td>\n",
       "      <td>...</td>\n",
       "      <td>NaN</td>\n",
       "      <td>NaN</td>\n",
       "      <td>16.8</td>\n",
       "      <td>0.639</td>\n",
       "      <td>10.7</td>\n",
       "      <td>0.628</td>\n",
       "      <td>7.9</td>\n",
       "      <td>5.0</td>\n",
       "      <td>88.0</td>\n",
       "      <td>26.4</td>\n",
       "    </tr>\n",
       "    <tr>\n",
       "      <th>3</th>\n",
       "      <td>3</td>\n",
       "      <td>/players/a/abdulma02.html</td>\n",
       "      <td>Mahmoud Abdul-Rauf</td>\n",
       "      <td>1991</td>\n",
       "      <td>2001</td>\n",
       "      <td>G</td>\n",
       "      <td>LSU</td>\n",
       "      <td>73.0</td>\n",
       "      <td>162.0</td>\n",
       "      <td>March 9, 1969</td>\n",
       "      <td>...</td>\n",
       "      <td>2.7</td>\n",
       "      <td>NaN</td>\n",
       "      <td>21.9</td>\n",
       "      <td>0.474</td>\n",
       "      <td>10.4</td>\n",
       "      <td>0.863</td>\n",
       "      <td>6.4</td>\n",
       "      <td>5.5</td>\n",
       "      <td>64.0</td>\n",
       "      <td>29.0</td>\n",
       "    </tr>\n",
       "    <tr>\n",
       "      <th>4</th>\n",
       "      <td>4</td>\n",
       "      <td>/players/a/abdulta01.html</td>\n",
       "      <td>Tariq Abdul-Wahad</td>\n",
       "      <td>1998</td>\n",
       "      <td>2003</td>\n",
       "      <td>F</td>\n",
       "      <td>Michigan, San Jose State</td>\n",
       "      <td>78.0</td>\n",
       "      <td>223.0</td>\n",
       "      <td>November 3, 1974</td>\n",
       "      <td>...</td>\n",
       "      <td>0.6</td>\n",
       "      <td>NaN</td>\n",
       "      <td>10.4</td>\n",
       "      <td>0.477</td>\n",
       "      <td>4.9</td>\n",
       "      <td>0.726</td>\n",
       "      <td>4.4</td>\n",
       "      <td>3.2</td>\n",
       "      <td>87.0</td>\n",
       "      <td>13.6</td>\n",
       "    </tr>\n",
       "  </tbody>\n",
       "</table>\n",
       "<p>5 rows × 34 columns</p>\n",
       "</div>"
      ],
      "text/plain": [
       "   Unnamed: 0                        url                 name  active_from  \\\n",
       "0           0  /players/a/abdelal01.html       Alaa Abdelnaby         1991   \n",
       "1           1  /players/a/abdulza01.html      Zaid Abdul-Aziz         1969   \n",
       "2           2  /players/a/abdulka01.html  Kareem Abdul-Jabbar         1970   \n",
       "3           3  /players/a/abdulma02.html   Mahmoud Abdul-Rauf         1991   \n",
       "4           4  /players/a/abdulta01.html    Tariq Abdul-Wahad         1998   \n",
       "\n",
       "   active_to position                   college  height  weight  \\\n",
       "0       1995      F-C                      Duke    82.0   240.0   \n",
       "1       1978      C-F                Iowa State    81.0   235.0   \n",
       "2       1989        C                      UCLA    86.0   225.0   \n",
       "3       2001        G                       LSU    73.0   162.0   \n",
       "4       2003        F  Michigan, San Jose State    78.0   223.0   \n",
       "\n",
       "         birth_date  ...  NCAA__3ptpg  NCAA_efgpct  NCAA_fgapg  NCAA_fgpct  \\\n",
       "0     June 24, 1968  ...          0.0          NaN         5.6       0.599   \n",
       "1     April 7, 1946  ...          NaN          NaN        16.8       0.465   \n",
       "2    April 16, 1947  ...          NaN          NaN        16.8       0.639   \n",
       "3     March 9, 1969  ...          2.7          NaN        21.9       0.474   \n",
       "4  November 3, 1974  ...          0.6          NaN        10.4       0.477   \n",
       "\n",
       "   NCAA_fgpg  NCAA_ft  NCAA_ftapg  NCAA_ftpg  NCAA_games  NCAA_ppg  \n",
       "0        3.3    0.728         2.5        1.8       134.0       8.5  \n",
       "1        7.8    0.645        10.4        6.7        75.0      22.3  \n",
       "2       10.7    0.628         7.9        5.0        88.0      26.4  \n",
       "3       10.4    0.863         6.4        5.5        64.0      29.0  \n",
       "4        4.9    0.726         4.4        3.2        87.0      13.6  \n",
       "\n",
       "[5 rows x 34 columns]"
      ]
     },
     "execution_count": 7,
     "metadata": {},
     "output_type": "execute_result"
    }
   ],
   "source": [
    "drafted_df[\"height\"] = drafted_df[\"height\"].apply(lambda x:parse_ht(x))\n",
    "drafted_df.head()"
   ]
  },
  {
   "cell_type": "code",
   "execution_count": 8,
   "id": "4b1ab473",
   "metadata": {},
   "outputs": [],
   "source": [
    "#create a drafted column\n",
    "drafted_df[\"drafted\"]= 1"
   ]
  },
  {
   "cell_type": "code",
   "execution_count": 9,
   "id": "450d0c39",
   "metadata": {},
   "outputs": [],
   "source": [
    "#break data into 2 sets, average games per season = 82, used relative less than 2 years of playing to \n",
    "#seperate those with strong careers post draft\n",
    "\n",
    "drafted_df.loc[drafted_df.NBA_g_played<164,'drafted']=0\n",
    "\n",
    "drafted_df.loc[drafted_df.NBA_g_played>164,'drafted']=1"
   ]
  },
  {
   "cell_type": "code",
   "execution_count": 10,
   "id": "47588b95",
   "metadata": {},
   "outputs": [],
   "source": [
    "#replace NAN values with 0\n",
    "\n",
    "drafted_df= drafted_df.fillna(0)"
   ]
  },
  {
   "cell_type": "code",
   "execution_count": 11,
   "id": "1997d364",
   "metadata": {},
   "outputs": [
    {
     "data": {
      "text/html": [
       "<div>\n",
       "<style scoped>\n",
       "    .dataframe tbody tr th:only-of-type {\n",
       "        vertical-align: middle;\n",
       "    }\n",
       "\n",
       "    .dataframe tbody tr th {\n",
       "        vertical-align: top;\n",
       "    }\n",
       "\n",
       "    .dataframe thead th {\n",
       "        text-align: right;\n",
       "    }\n",
       "</style>\n",
       "<table border=\"1\" class=\"dataframe\">\n",
       "  <thead>\n",
       "    <tr style=\"text-align: right;\">\n",
       "      <th></th>\n",
       "      <th>Unnamed: 0</th>\n",
       "      <th>url</th>\n",
       "      <th>name</th>\n",
       "      <th>active_from</th>\n",
       "      <th>active_to</th>\n",
       "      <th>position</th>\n",
       "      <th>college</th>\n",
       "      <th>height</th>\n",
       "      <th>weight</th>\n",
       "      <th>birth_date</th>\n",
       "      <th>...</th>\n",
       "      <th>NCAA_efgpct</th>\n",
       "      <th>NCAA_fgapg</th>\n",
       "      <th>NCAA_fgpct</th>\n",
       "      <th>NCAA_fgpg</th>\n",
       "      <th>NCAA_ft</th>\n",
       "      <th>NCAA_ftapg</th>\n",
       "      <th>NCAA_ftpg</th>\n",
       "      <th>NCAA_games</th>\n",
       "      <th>NCAA_ppg</th>\n",
       "      <th>drafted</th>\n",
       "    </tr>\n",
       "  </thead>\n",
       "  <tbody>\n",
       "    <tr>\n",
       "      <th>0</th>\n",
       "      <td>0</td>\n",
       "      <td>/players/a/abdelal01.html</td>\n",
       "      <td>Alaa Abdelnaby</td>\n",
       "      <td>1991</td>\n",
       "      <td>1995</td>\n",
       "      <td>F-C</td>\n",
       "      <td>Duke</td>\n",
       "      <td>82.0</td>\n",
       "      <td>240.0</td>\n",
       "      <td>June 24, 1968</td>\n",
       "      <td>...</td>\n",
       "      <td>0.0</td>\n",
       "      <td>5.6</td>\n",
       "      <td>0.599</td>\n",
       "      <td>3.3</td>\n",
       "      <td>0.728</td>\n",
       "      <td>2.5</td>\n",
       "      <td>1.8</td>\n",
       "      <td>134.0</td>\n",
       "      <td>8.5</td>\n",
       "      <td>1</td>\n",
       "    </tr>\n",
       "    <tr>\n",
       "      <th>1</th>\n",
       "      <td>1</td>\n",
       "      <td>/players/a/abdulza01.html</td>\n",
       "      <td>Zaid Abdul-Aziz</td>\n",
       "      <td>1969</td>\n",
       "      <td>1978</td>\n",
       "      <td>C-F</td>\n",
       "      <td>Iowa State</td>\n",
       "      <td>81.0</td>\n",
       "      <td>235.0</td>\n",
       "      <td>April 7, 1946</td>\n",
       "      <td>...</td>\n",
       "      <td>0.0</td>\n",
       "      <td>16.8</td>\n",
       "      <td>0.465</td>\n",
       "      <td>7.8</td>\n",
       "      <td>0.645</td>\n",
       "      <td>10.4</td>\n",
       "      <td>6.7</td>\n",
       "      <td>75.0</td>\n",
       "      <td>22.3</td>\n",
       "      <td>1</td>\n",
       "    </tr>\n",
       "    <tr>\n",
       "      <th>2</th>\n",
       "      <td>2</td>\n",
       "      <td>/players/a/abdulka01.html</td>\n",
       "      <td>Kareem Abdul-Jabbar</td>\n",
       "      <td>1970</td>\n",
       "      <td>1989</td>\n",
       "      <td>C</td>\n",
       "      <td>UCLA</td>\n",
       "      <td>86.0</td>\n",
       "      <td>225.0</td>\n",
       "      <td>April 16, 1947</td>\n",
       "      <td>...</td>\n",
       "      <td>0.0</td>\n",
       "      <td>16.8</td>\n",
       "      <td>0.639</td>\n",
       "      <td>10.7</td>\n",
       "      <td>0.628</td>\n",
       "      <td>7.9</td>\n",
       "      <td>5.0</td>\n",
       "      <td>88.0</td>\n",
       "      <td>26.4</td>\n",
       "      <td>1</td>\n",
       "    </tr>\n",
       "    <tr>\n",
       "      <th>3</th>\n",
       "      <td>3</td>\n",
       "      <td>/players/a/abdulma02.html</td>\n",
       "      <td>Mahmoud Abdul-Rauf</td>\n",
       "      <td>1991</td>\n",
       "      <td>2001</td>\n",
       "      <td>G</td>\n",
       "      <td>LSU</td>\n",
       "      <td>73.0</td>\n",
       "      <td>162.0</td>\n",
       "      <td>March 9, 1969</td>\n",
       "      <td>...</td>\n",
       "      <td>0.0</td>\n",
       "      <td>21.9</td>\n",
       "      <td>0.474</td>\n",
       "      <td>10.4</td>\n",
       "      <td>0.863</td>\n",
       "      <td>6.4</td>\n",
       "      <td>5.5</td>\n",
       "      <td>64.0</td>\n",
       "      <td>29.0</td>\n",
       "      <td>1</td>\n",
       "    </tr>\n",
       "    <tr>\n",
       "      <th>4</th>\n",
       "      <td>4</td>\n",
       "      <td>/players/a/abdulta01.html</td>\n",
       "      <td>Tariq Abdul-Wahad</td>\n",
       "      <td>1998</td>\n",
       "      <td>2003</td>\n",
       "      <td>F</td>\n",
       "      <td>Michigan, San Jose State</td>\n",
       "      <td>78.0</td>\n",
       "      <td>223.0</td>\n",
       "      <td>November 3, 1974</td>\n",
       "      <td>...</td>\n",
       "      <td>0.0</td>\n",
       "      <td>10.4</td>\n",
       "      <td>0.477</td>\n",
       "      <td>4.9</td>\n",
       "      <td>0.726</td>\n",
       "      <td>4.4</td>\n",
       "      <td>3.2</td>\n",
       "      <td>87.0</td>\n",
       "      <td>13.6</td>\n",
       "      <td>1</td>\n",
       "    </tr>\n",
       "  </tbody>\n",
       "</table>\n",
       "<p>5 rows × 35 columns</p>\n",
       "</div>"
      ],
      "text/plain": [
       "   Unnamed: 0                        url                 name  active_from  \\\n",
       "0           0  /players/a/abdelal01.html       Alaa Abdelnaby         1991   \n",
       "1           1  /players/a/abdulza01.html      Zaid Abdul-Aziz         1969   \n",
       "2           2  /players/a/abdulka01.html  Kareem Abdul-Jabbar         1970   \n",
       "3           3  /players/a/abdulma02.html   Mahmoud Abdul-Rauf         1991   \n",
       "4           4  /players/a/abdulta01.html    Tariq Abdul-Wahad         1998   \n",
       "\n",
       "   active_to position                   college  height  weight  \\\n",
       "0       1995      F-C                      Duke    82.0   240.0   \n",
       "1       1978      C-F                Iowa State    81.0   235.0   \n",
       "2       1989        C                      UCLA    86.0   225.0   \n",
       "3       2001        G                       LSU    73.0   162.0   \n",
       "4       2003        F  Michigan, San Jose State    78.0   223.0   \n",
       "\n",
       "         birth_date  ...  NCAA_efgpct  NCAA_fgapg  NCAA_fgpct  NCAA_fgpg  \\\n",
       "0     June 24, 1968  ...          0.0         5.6       0.599        3.3   \n",
       "1     April 7, 1946  ...          0.0        16.8       0.465        7.8   \n",
       "2    April 16, 1947  ...          0.0        16.8       0.639       10.7   \n",
       "3     March 9, 1969  ...          0.0        21.9       0.474       10.4   \n",
       "4  November 3, 1974  ...          0.0        10.4       0.477        4.9   \n",
       "\n",
       "   NCAA_ft  NCAA_ftapg  NCAA_ftpg  NCAA_games  NCAA_ppg  drafted  \n",
       "0    0.728         2.5        1.8       134.0       8.5        1  \n",
       "1    0.645        10.4        6.7        75.0      22.3        1  \n",
       "2    0.628         7.9        5.0        88.0      26.4        1  \n",
       "3    0.863         6.4        5.5        64.0      29.0        1  \n",
       "4    0.726         4.4        3.2        87.0      13.6        1  \n",
       "\n",
       "[5 rows x 35 columns]"
      ]
     },
     "execution_count": 11,
     "metadata": {},
     "output_type": "execute_result"
    }
   ],
   "source": [
    "drafted_df.head()"
   ]
  },
  {
   "cell_type": "code",
   "execution_count": 12,
   "id": "4dcac582",
   "metadata": {},
   "outputs": [],
   "source": [
    "#assign data to X and Y\n",
    "#using the NCAA college data from drafted players to form our model\n",
    "\n",
    "X =drafted_df[['height','weight','NCAA__3ptapg','NCAA_fgapg','NCAA_ftapg','NCAA_ppg']]\n",
    "y = drafted_df['drafted'].astype(int)"
   ]
  },
  {
   "cell_type": "code",
   "execution_count": 13,
   "id": "109ae08c",
   "metadata": {},
   "outputs": [
    {
     "name": "stdout",
     "output_type": "stream",
     "text": [
      "Shape:  (4985, 6) (4985,)\n"
     ]
    }
   ],
   "source": [
    "print(\"Shape: \", X.shape, y.shape)"
   ]
  },
  {
   "cell_type": "code",
   "execution_count": 14,
   "id": "7daf92c3",
   "metadata": {},
   "outputs": [],
   "source": [
    "#split data into training and testing data\n",
    "\n",
    "from sklearn.model_selection import train_test_split\n",
    "\n",
    "X_train, X_test, y_train, y_test = train_test_split(X, y, random_state=2)"
   ]
  },
  {
   "cell_type": "markdown",
   "id": "58c17163",
   "metadata": {},
   "source": [
    "<b>Logistic Regression Model<b>"
   ]
  },
  {
   "cell_type": "code",
   "execution_count": 15,
   "id": "6caabfc8",
   "metadata": {},
   "outputs": [
    {
     "data": {
      "text/plain": [
       "LogisticRegression()"
      ]
     },
     "execution_count": 15,
     "metadata": {},
     "output_type": "execute_result"
    }
   ],
   "source": [
    "from sklearn.linear_model import LogisticRegression\n",
    "classifier = LogisticRegression()\n",
    "classifier"
   ]
  },
  {
   "cell_type": "code",
   "execution_count": 16,
   "id": "d66bf958",
   "metadata": {},
   "outputs": [
    {
     "name": "stderr",
     "output_type": "stream",
     "text": [
      "C:\\Users\\maris\\anaconda3\\lib\\site-packages\\sklearn\\linear_model\\_logistic.py:763: ConvergenceWarning: lbfgs failed to converge (status=1):\n",
      "STOP: TOTAL NO. of ITERATIONS REACHED LIMIT.\n",
      "\n",
      "Increase the number of iterations (max_iter) or scale the data as shown in:\n",
      "    https://scikit-learn.org/stable/modules/preprocessing.html\n",
      "Please also refer to the documentation for alternative solver options:\n",
      "    https://scikit-learn.org/stable/modules/linear_model.html#logistic-regression\n",
      "  n_iter_i = _check_optimize_result(\n"
     ]
    },
    {
     "data": {
      "text/plain": [
       "LogisticRegression()"
      ]
     },
     "execution_count": 16,
     "metadata": {},
     "output_type": "execute_result"
    }
   ],
   "source": [
    " classifier.fit(X_train, y_train)"
   ]
  },
  {
   "cell_type": "code",
   "execution_count": 17,
   "id": "01689062",
   "metadata": {},
   "outputs": [
    {
     "name": "stdout",
     "output_type": "stream",
     "text": [
      "Training Data Score: 0.6452648475120385\n",
      "Testing Data Score: 0.6720128307939054\n"
     ]
    }
   ],
   "source": [
    "print(f\"Training Data Score: {classifier.score(X_train, y_train)}\")\n",
    "print(f\"Testing Data Score: {classifier.score(X_test, y_test)}\")"
   ]
  },
  {
   "cell_type": "code",
   "execution_count": 18,
   "id": "39edca3c",
   "metadata": {},
   "outputs": [
    {
     "name": "stdout",
     "output_type": "stream",
     "text": [
      "Actual:\t\t[0, 1, 1, 1, 1, 0, 1, 1, 0, 0]\n",
      "Predicted:\t[0, 1, 0, 0, 0, 0, 0, 0, 1, 0]\n"
     ]
    }
   ],
   "source": [
    "print(f'Actual:\\t\\t{list(y_test[:10])}')\n",
    "print(f'Predicted:\\t{list(classifier.predict(X_test[:10]))}')"
   ]
  },
  {
   "cell_type": "markdown",
   "id": "5f14ef3b",
   "metadata": {},
   "source": [
    "<b>Feature Importances<b>"
   ]
  },
  {
   "cell_type": "code",
   "execution_count": 19,
   "id": "a29d34ca",
   "metadata": {},
   "outputs": [],
   "source": [
    "import matplotlib.pyplot as plt\n",
    "from sklearn.model_selection import train_test_split\n",
    "from sklearn.metrics import accuracy_score\n",
    "from sklearn.metrics import precision_score, recall_score, accuracy_score, f1_score, confusion_matrix\n",
    "from sklearn.model_selection import train_test_split, GridSearchCV, cross_val_score\n",
    "from sklearn.metrics import classification_report\n",
    "from sklearn.preprocessing import StandardScaler\n",
    "from sklearn.tree import DecisionTreeClassifier\n",
    "\n",
    "from sklearn.ensemble import AdaBoostClassifier\n",
    "from IPython.display import Image \n",
    "from sklearn.tree import export_graphviz\n",
    "from sklearn import tree\n",
    "\n",
    "from sklearn.metrics import mean_squared_error\n",
    "import pickle\n",
    "import seaborn as sns; sns.set(style ='white', color_codes = True)"
   ]
  },
  {
   "cell_type": "code",
   "execution_count": 20,
   "id": "f12a7464",
   "metadata": {},
   "outputs": [],
   "source": [
    "def plot_feature_importances(model):\n",
    "    n_features = X_train.shape[1]\n",
    "    plt.figure(figsize=(5,5))\n",
    "    plt.barh(range(n_features), model.feature_importances_, align='center', color = 'green') \n",
    "    plt.yticks(np.arange(n_features), X_train.columns.values) \n",
    "    plt.xlabel(\"Feature importance\")\n",
    "    plt.ylabel(\"Feature\")"
   ]
  },
  {
   "cell_type": "code",
   "execution_count": 21,
   "id": "98bf7557",
   "metadata": {},
   "outputs": [],
   "source": [
    "X =drafted_df[['height','weight','NCAA__3ptapg','NCAA_fgapg','NCAA_ftapg','NCAA_ppg']]\n",
    "y = drafted_df['drafted'].astype(int)"
   ]
  },
  {
   "cell_type": "code",
   "execution_count": 22,
   "id": "ca2832bc",
   "metadata": {},
   "outputs": [],
   "source": [
    "ctree = DecisionTreeClassifier(max_depth = 2)"
   ]
  },
  {
   "cell_type": "code",
   "execution_count": 23,
   "id": "9b359b08",
   "metadata": {},
   "outputs": [],
   "source": [
    "#train_test\n",
    "X_train, X_test, y_train, y_test = train_test_split(X, y, test_size=0.90, random_state=42)"
   ]
  },
  {
   "cell_type": "code",
   "execution_count": 24,
   "id": "0d962792",
   "metadata": {},
   "outputs": [
    {
     "data": {
      "image/png": "[encoded data removed]",
      "text/plain": [
       "<Figure size 360x360 with 1 Axes>"
      ]
     },
     "metadata": {},
     "output_type": "display_data"
    }
   ],
   "source": [
    "plot_feature_importances(ctree.fit(X_train, y_train))"
   ]
  },
  {
   "cell_type": "markdown",
   "id": "439a9feb",
   "metadata": {},
   "source": [
    "<b>Random Forest Classifier<p>\n",
    "NCAA Points per game and Weight top two features<b>"
   ]
  },
  {
   "cell_type": "code",
   "execution_count": 25,
   "id": "a6ecc458",
   "metadata": {},
   "outputs": [],
   "source": [
    "from sklearn.model_selection import train_test_split\n",
    "from sklearn.ensemble import RandomForestRegressor\n",
    "from sklearn.inspection import permutation_importance\n",
    "import shap"
   ]
  },
  {
   "cell_type": "code",
   "execution_count": 26,
   "id": "bd402320",
   "metadata": {},
   "outputs": [
    {
     "name": "stdout",
     "output_type": "stream",
     "text": [
      "Feature: 0, Score: 0.12705\n",
      "Feature: 1, Score: 0.20367\n",
      "Feature: 2, Score: 0.10475\n",
      "Feature: 3, Score: 0.17388\n",
      "Feature: 4, Score: 0.17908\n",
      "Feature: 5, Score: 0.21156\n"
     ]
    },
    {
     "data": {
      "image/png": "[encoded data removed]",
      "text/plain": [
       "<Figure size 432x288 with 1 Axes>"
      ]
     },
     "metadata": {},
     "output_type": "display_data"
    }
   ],
   "source": [
    "# random forest for feature importance on a classification problem\n",
    "\n",
    "from sklearn.ensemble import RandomForestClassifier\n",
    "from matplotlib import pyplot\n",
    "# define dataset\n",
    "# Feautures and Predicted\n",
    "X =drafted_df[['height','weight','NCAA__3ptapg','NCAA_fgapg','NCAA_ftapg','NCAA_ppg']]\n",
    "y = drafted_df['drafted'].astype(int)\n",
    "\n",
    "#X, y = df1.columns(n_samples=1000, n_features=10, n_informative=5, n_redundant=5, random_state=1)\n",
    "# define the model\n",
    "model = RandomForestClassifier()\n",
    "# fit the model\n",
    "model.fit(X, y)\n",
    "# get importance\n",
    "importance = model.feature_importances_\n",
    "# summarize feature importance\n",
    "for i,v in enumerate(importance):\n",
    "\tprint('Feature: %0d, Score: %.5f' % (i,v))\n",
    "# plot feature importance\n",
    "pyplot.bar([x for x in range(len(importance))], importance)\n",
    "pyplot.show()"
   ]
  },
  {
   "cell_type": "markdown",
   "id": "1118f349",
   "metadata": {},
   "source": [
    "<b>Scale the data<p>\n",
    "Scaled data improved training score but reduced testing score<b>"
   ]
  },
  {
   "cell_type": "code",
   "execution_count": 27,
   "id": "c6abf987",
   "metadata": {},
   "outputs": [],
   "source": [
    " # Create scaler instance\n",
    "X_scaler = skl.preprocessing.StandardScaler()\n",
    "\n",
    "# Fit the scaler\n",
    "X_scaler.fit(X_train)\n",
    "\n",
    "# Scale the data\n",
    "X_train_scaled = X_scaler.transform(X_train)\n",
    "X_test_scaled = X_scaler.transform(X_test)"
   ]
  },
  {
   "cell_type": "code",
   "execution_count": 28,
   "id": "952fcf61",
   "metadata": {},
   "outputs": [
    {
     "name": "stdout",
     "output_type": "stream",
     "text": [
      "Training Score: 0.9538152610441767\n",
      "Testing Score: 0.5899264542010252\n"
     ]
    }
   ],
   "source": [
    "from sklearn.datasets import make_classification\n",
    "from sklearn.ensemble import RandomForestClassifier\n",
    "\n",
    "clf = RandomForestClassifier(random_state=1, n_estimators=500).fit(X_train_scaled, y_train)\n",
    "print(f'Training Score: {clf.score(X_train_scaled, y_train)}')\n",
    "print(f'Testing Score: {clf.score(X_test_scaled, y_test)}')"
   ]
  },
  {
   "cell_type": "code",
   "execution_count": null,
   "id": "74c72a25",
   "metadata": {},
   "outputs": [],
   "source": []
  },
  {
   "cell_type": "markdown",
   "id": "89738091",
   "metadata": {},
   "source": [
    "<b> Randon Forest Regressor model using shap<p>\n",
    "    Top 4 features identified were NCAA points per game, Height, NCAA 3 point average, and weight<b>"
   ]
  },
  {
   "cell_type": "code",
   "execution_count": 29,
   "id": "8176a1b6",
   "metadata": {},
   "outputs": [
    {
     "data": {
      "text/plain": [
       "RandomForestRegressor()"
      ]
     },
     "execution_count": 29,
     "metadata": {},
     "output_type": "execute_result"
    }
   ],
   "source": [
    "from sklearn.model_selection import train_test_split\n",
    "from sklearn.ensemble import RandomForestRegressor\n",
    "from sklearn.inspection import permutation_importance\n",
    "import shap\n",
    "from matplotlib import pyplot as plt\n",
    "\n",
    "\n",
    "# train the model\n",
    "rf = RandomForestRegressor(n_estimators=100)\n",
    "rf.fit(X_train, y_train)"
   ]
  },
  {
   "cell_type": "code",
   "execution_count": 30,
   "id": "b2c31117",
   "metadata": {},
   "outputs": [
    {
     "data": {
      "image/png": "[encoded data removed]",
      "text/plain": [
       "<Figure size 576x280.8 with 1 Axes>"
      ]
     },
     "metadata": {},
     "output_type": "display_data"
    }
   ],
   "source": [
    "explainer = shap.TreeExplainer(rf)\n",
    "shap_values = explainer.shap_values(X_test)\n",
    "shap.summary_plot(shap_values, X_test, plot_type=\"bar\")"
   ]
  },
  {
   "cell_type": "markdown",
   "id": "c0fa8047",
   "metadata": {},
   "source": [
    "<b> PCA model<p>\n",
    "Top 4 features used."
   ]
  },
  {
   "cell_type": "code",
   "execution_count": 31,
   "id": "97d7243e",
   "metadata": {},
   "outputs": [],
   "source": [
    "import pandas as pd\n",
    "from pathlib import Path\n",
    "from sklearn.preprocessing import StandardScaler\n",
    "from sklearn.decomposition import PCA\n",
    "from sklearn.cluster import KMeans\n",
    "import matplotlib.pyplot as plt"
   ]
  },
  {
   "cell_type": "code",
   "execution_count": 32,
   "id": "6b8ea0d3",
   "metadata": {},
   "outputs": [],
   "source": [
    "drafted_scaled = StandardScaler().fit_transform(drafted_df[['height','weight','NCAA__3ptapg','NCAA_fgapg','NCAA_ftapg','NCAA_ppg']])"
   ]
  },
  {
   "cell_type": "code",
   "execution_count": 33,
   "id": "5e11f4fe",
   "metadata": {},
   "outputs": [],
   "source": [
    "# Initialize PCA model\n",
    "pca = PCA(n_components=4)\n",
    "\n",
    "# Get two principal components for the iris data.\n",
    "drafted_pca = pca.fit_transform(drafted_scaled)"
   ]
  },
  {
   "cell_type": "code",
   "execution_count": 34,
   "id": "d3ce5465",
   "metadata": {},
   "outputs": [
    {
     "data": {
      "text/html": [
       "<div>\n",
       "<style scoped>\n",
       "    .dataframe tbody tr th:only-of-type {\n",
       "        vertical-align: middle;\n",
       "    }\n",
       "\n",
       "    .dataframe tbody tr th {\n",
       "        vertical-align: top;\n",
       "    }\n",
       "\n",
       "    .dataframe thead th {\n",
       "        text-align: right;\n",
       "    }\n",
       "</style>\n",
       "<table border=\"1\" class=\"dataframe\">\n",
       "  <thead>\n",
       "    <tr style=\"text-align: right;\">\n",
       "      <th></th>\n",
       "      <th>NCAA_ppg</th>\n",
       "      <th>weight</th>\n",
       "      <th>NCAA__3ptapg</th>\n",
       "      <th>height</th>\n",
       "    </tr>\n",
       "  </thead>\n",
       "  <tbody>\n",
       "    <tr>\n",
       "      <th>0</th>\n",
       "      <td>-0.319952</td>\n",
       "      <td>-1.681980</td>\n",
       "      <td>-0.037792</td>\n",
       "      <td>-0.044110</td>\n",
       "    </tr>\n",
       "    <tr>\n",
       "      <th>1</th>\n",
       "      <td>3.574833</td>\n",
       "      <td>-1.614136</td>\n",
       "      <td>-1.399814</td>\n",
       "      <td>-0.350576</td>\n",
       "    </tr>\n",
       "    <tr>\n",
       "      <th>2</th>\n",
       "      <td>3.312079</td>\n",
       "      <td>-2.242617</td>\n",
       "      <td>-1.143724</td>\n",
       "      <td>1.074025</td>\n",
       "    </tr>\n",
       "    <tr>\n",
       "      <th>3</th>\n",
       "      <td>4.647617</td>\n",
       "      <td>2.878220</td>\n",
       "      <td>1.400560</td>\n",
       "      <td>0.598224</td>\n",
       "    </tr>\n",
       "    <tr>\n",
       "      <th>4</th>\n",
       "      <td>1.183665</td>\n",
       "      <td>-0.312754</td>\n",
       "      <td>0.127959</td>\n",
       "      <td>-0.342097</td>\n",
       "    </tr>\n",
       "  </tbody>\n",
       "</table>\n",
       "</div>"
      ],
      "text/plain": [
       "   NCAA_ppg    weight  NCAA__3ptapg    height\n",
       "0 -0.319952 -1.681980     -0.037792 -0.044110\n",
       "1  3.574833 -1.614136     -1.399814 -0.350576\n",
       "2  3.312079 -2.242617     -1.143724  1.074025\n",
       "3  4.647617  2.878220      1.400560  0.598224\n",
       "4  1.183665 -0.312754      0.127959 -0.342097"
      ]
     },
     "execution_count": 34,
     "metadata": {},
     "output_type": "execute_result"
    }
   ],
   "source": [
    "df_drafted_pca = pd.DataFrame(\n",
    "    data=drafted_pca, columns=[\"NCAA_ppg\", \"weight\",\"NCAA__3ptapg\",\"height\"]\n",
    ")\n",
    "df_drafted_pca.head()"
   ]
  },
  {
   "cell_type": "code",
   "execution_count": 35,
   "id": "1bc70490",
   "metadata": {},
   "outputs": [
    {
     "data": {
      "text/plain": [
       "array([0.5099203 , 0.31206682, 0.12490748, 0.03401018])"
      ]
     },
     "execution_count": 35,
     "metadata": {},
     "output_type": "execute_result"
    }
   ],
   "source": [
    " # Fetch the explained variance\n",
    "pca.explained_variance_ratio_"
   ]
  },
  {
   "cell_type": "markdown",
   "id": "1eb7c6b2",
   "metadata": {},
   "source": [
    "<b>K Means<b>"
   ]
  },
  {
   "cell_type": "code",
   "execution_count": 36,
   "id": "e03cd3e9",
   "metadata": {},
   "outputs": [
    {
     "data": {
      "image/png": "[encoded data removed]",
      "text/plain": [
       "<Figure size 432x288 with 1 Axes>"
      ]
     },
     "metadata": {},
     "output_type": "display_data"
    }
   ],
   "source": [
    "# Finding the best value for k\n",
    "inertia = []\n",
    "k = list(range(1, 11))\n",
    "\n",
    "# Calculate the inertia for the range of k values\n",
    "for i in k:\n",
    "    km = KMeans(n_clusters=i, random_state=0)\n",
    "    km.fit(df_drafted_pca)\n",
    "    inertia.append(km.inertia_)\n",
    "\n",
    "# Creating the Elbow Curve\n",
    "elbow_data = {\"k\": k, \"inertia\": inertia}\n",
    "df_elbow = pd.DataFrame(elbow_data)\n",
    "\n",
    "plt.plot(df_elbow['k'], df_elbow['inertia'])\n",
    "plt.xticks(list(range(11)))\n",
    "plt.title('Elbow Curve')\n",
    "plt.xlabel('Number of clusters')\n",
    "plt.ylabel('Inertia')\n",
    "plt.show()"
   ]
  },
  {
   "cell_type": "code",
   "execution_count": 37,
   "id": "88930e7f",
   "metadata": {},
   "outputs": [
    {
     "data": {
      "text/html": [
       "<div>\n",
       "<style scoped>\n",
       "    .dataframe tbody tr th:only-of-type {\n",
       "        vertical-align: middle;\n",
       "    }\n",
       "\n",
       "    .dataframe tbody tr th {\n",
       "        vertical-align: top;\n",
       "    }\n",
       "\n",
       "    .dataframe thead th {\n",
       "        text-align: right;\n",
       "    }\n",
       "</style>\n",
       "<table border=\"1\" class=\"dataframe\">\n",
       "  <thead>\n",
       "    <tr style=\"text-align: right;\">\n",
       "      <th></th>\n",
       "      <th>NCAA_ppg</th>\n",
       "      <th>weight</th>\n",
       "      <th>NCAA__3ptapg</th>\n",
       "      <th>height</th>\n",
       "      <th>drafted</th>\n",
       "    </tr>\n",
       "  </thead>\n",
       "  <tbody>\n",
       "    <tr>\n",
       "      <th>0</th>\n",
       "      <td>-0.319952</td>\n",
       "      <td>-1.681980</td>\n",
       "      <td>-0.037792</td>\n",
       "      <td>-0.044110</td>\n",
       "      <td>3</td>\n",
       "    </tr>\n",
       "    <tr>\n",
       "      <th>1</th>\n",
       "      <td>3.574833</td>\n",
       "      <td>-1.614136</td>\n",
       "      <td>-1.399814</td>\n",
       "      <td>-0.350576</td>\n",
       "      <td>4</td>\n",
       "    </tr>\n",
       "    <tr>\n",
       "      <th>2</th>\n",
       "      <td>3.312079</td>\n",
       "      <td>-2.242617</td>\n",
       "      <td>-1.143724</td>\n",
       "      <td>1.074025</td>\n",
       "      <td>3</td>\n",
       "    </tr>\n",
       "    <tr>\n",
       "      <th>3</th>\n",
       "      <td>4.647617</td>\n",
       "      <td>2.878220</td>\n",
       "      <td>1.400560</td>\n",
       "      <td>0.598224</td>\n",
       "      <td>0</td>\n",
       "    </tr>\n",
       "    <tr>\n",
       "      <th>4</th>\n",
       "      <td>1.183665</td>\n",
       "      <td>-0.312754</td>\n",
       "      <td>0.127959</td>\n",
       "      <td>-0.342097</td>\n",
       "      <td>3</td>\n",
       "    </tr>\n",
       "  </tbody>\n",
       "</table>\n",
       "</div>"
      ],
      "text/plain": [
       "   NCAA_ppg    weight  NCAA__3ptapg    height  drafted\n",
       "0 -0.319952 -1.681980     -0.037792 -0.044110        3\n",
       "1  3.574833 -1.614136     -1.399814 -0.350576        4\n",
       "2  3.312079 -2.242617     -1.143724  1.074025        3\n",
       "3  4.647617  2.878220      1.400560  0.598224        0\n",
       "4  1.183665 -0.312754      0.127959 -0.342097        3"
      ]
     },
     "execution_count": 37,
     "metadata": {},
     "output_type": "execute_result"
    }
   ],
   "source": [
    "# Predicting clusters with k=5\n",
    "\n",
    "# Initialize the k-means model\n",
    "model = KMeans(n_clusters=5, random_state=0)\n",
    "\n",
    "# Fit the model\n",
    "model.fit(df_drafted_pca)\n",
    "\n",
    "# Predict clusters\n",
    "predictions = model.predict(df_drafted_pca)\n",
    "\n",
    "# Add the predicted class column to the dataframe\n",
    "df_drafted_pca[\"drafted\"] = model.labels_\n",
    "df_drafted_pca.head()"
   ]
  },
  {
   "cell_type": "code",
   "execution_count": 38,
   "id": "81cb16dc",
   "metadata": {},
   "outputs": [
    {
     "data": {
      "image/png": "[encoded data removed]",
      "text/plain": [
       "<Figure size 432x288 with 1 Axes>"
      ]
     },
     "metadata": {},
     "output_type": "display_data"
    }
   ],
   "source": [
    "# Visualize the clusters\n",
    "plt.scatter(x=df_drafted_pca['NCAA_ppg'], y=df_drafted_pca['weight'], c=df_drafted_pca['drafted'])\n",
    "plt.xlabel('NCAA_ppg')\n",
    "plt.ylabel('weight')\n",
    "plt.title('Stats clusters')\n",
    "plt.show()"
   ]
  },
  {
   "cell_type": "code",
   "execution_count": null,
   "id": "7c21cc2f",
   "metadata": {},
   "outputs": [],
   "source": []
  },
  {
   "cell_type": "code",
   "execution_count": null,
   "id": "23c666e4",
   "metadata": {},
   "outputs": [],
   "source": []
  },
  {
   "cell_type": "code",
   "execution_count": null,
   "id": "3e6f9045",
   "metadata": {},
   "outputs": [],
   "source": []
  },
  {
   "cell_type": "code",
   "execution_count": null,
   "id": "a10baf0d",
   "metadata": {},
   "outputs": [],
   "source": []
  },
  {
   "cell_type": "code",
   "execution_count": null,
   "id": "5fa59b52",
   "metadata": {},
   "outputs": [],
   "source": []
  }
 ],
 "metadata": {
  "kernelspec": {
   "display_name": "Python [conda env:root] *",
   "language": "python",
   "name": "conda-root-py"
  },
  "language_info": {
   "codemirror_mode": {
    "name": "ipython",
    "version": 3
   },
   "file_extension": ".py",
   "mimetype": "text/x-python",
   "name": "python",
   "nbconvert_exporter": "python",
   "pygments_lexer": "ipython3",
   "version": "3.8.8"
  }
 },
 "nbformat": 4,
 "nbformat_minor": 5
}
