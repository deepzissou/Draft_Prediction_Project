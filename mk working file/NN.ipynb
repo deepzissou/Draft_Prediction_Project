{
 "cells": [
  {
   "cell_type": "code",
   "execution_count": 1,
   "id": "c9a94ba2",
   "metadata": {},
   "outputs": [],
   "source": [
    "# Import our dependencies\n",
    "import pandas as pd\n",
    "%matplotlib inline\n",
    "from matplotlib import pyplot as plt\n",
    "from sklearn.datasets import make_blobs\n",
    "import sklearn as skl\n",
    "import tensorflow as tf\n",
    "import numpy as np"
   ]
  },
  {
   "cell_type": "code",
   "execution_count": 2,
   "id": "30b4af6d",
   "metadata": {},
   "outputs": [],
   "source": [
    "from sklearn.decomposition import PCA\n",
    "from sklearn.pipeline import Pipeline\n",
    "from sklearn.preprocessing import StandardScaler\n",
    "from sklearn.model_selection import GridSearchCV\n",
    "from sklearn.model_selection import train_test_split\n",
    "from sklearn.linear_model import LogisticRegression\n",
    "\n",
    "from pathlib import Path"
   ]
  },
  {
   "cell_type": "code",
   "execution_count": 3,
   "id": "df567e80",
   "metadata": {},
   "outputs": [],
   "source": [
    "bb_players = \"combined_ncaa_player_stats.csv\""
   ]
  },
  {
   "cell_type": "code",
   "execution_count": 4,
   "id": "e5783a37",
   "metadata": {},
   "outputs": [],
   "source": [
    "drafted2_df = pd.read_csv(bb_players)"
   ]
  },
  {
   "cell_type": "code",
   "execution_count": 5,
   "id": "3b088496",
   "metadata": {},
   "outputs": [
    {
     "data": {
      "text/html": [
       "<div>\n",
       "<style scoped>\n",
       "    .dataframe tbody tr th:only-of-type {\n",
       "        vertical-align: middle;\n",
       "    }\n",
       "\n",
       "    .dataframe tbody tr th {\n",
       "        vertical-align: top;\n",
       "    }\n",
       "\n",
       "    .dataframe thead th {\n",
       "        text-align: right;\n",
       "    }\n",
       "</style>\n",
       "<table border=\"1\" class=\"dataframe\">\n",
       "  <thead>\n",
       "    <tr style=\"text-align: right;\">\n",
       "      <th></th>\n",
       "      <th>url</th>\n",
       "      <th>name</th>\n",
       "      <th>fgapg</th>\n",
       "      <th>fgpct</th>\n",
       "      <th>fgpg</th>\n",
       "      <th>ftapg</th>\n",
       "      <th>ftpct</th>\n",
       "      <th>ftpg</th>\n",
       "      <th>games</th>\n",
       "      <th>height</th>\n",
       "      <th>pfpg</th>\n",
       "      <th>ptspg</th>\n",
       "      <th>sospg</th>\n",
       "      <th>trbpg</th>\n",
       "      <th>is_pro</th>\n",
       "    </tr>\n",
       "  </thead>\n",
       "  <tbody>\n",
       "    <tr>\n",
       "      <th>0</th>\n",
       "      <td>/cbb/players/menghe-anyam-1.html</td>\n",
       "      <td>Menghe a'Nyam</td>\n",
       "      <td>2.1</td>\n",
       "      <td>0.414</td>\n",
       "      <td>0.9</td>\n",
       "      <td>1.2</td>\n",
       "      <td>0.529</td>\n",
       "      <td>0.7</td>\n",
       "      <td>41.0</td>\n",
       "      <td>6-5</td>\n",
       "      <td>2.2</td>\n",
       "      <td>2.4</td>\n",
       "      <td>-4.15</td>\n",
       "      <td>3.0</td>\n",
       "      <td>0</td>\n",
       "    </tr>\n",
       "    <tr>\n",
       "      <th>1</th>\n",
       "      <td>/cbb/players/jordan-aaberg-1.html</td>\n",
       "      <td>Jordan Aaberg</td>\n",
       "      <td>2.3</td>\n",
       "      <td>0.619</td>\n",
       "      <td>1.5</td>\n",
       "      <td>0.7</td>\n",
       "      <td>0.788</td>\n",
       "      <td>0.6</td>\n",
       "      <td>115.0</td>\n",
       "      <td>6-9</td>\n",
       "      <td>1.6</td>\n",
       "      <td>3.5</td>\n",
       "      <td>-3.07</td>\n",
       "      <td>2.3</td>\n",
       "      <td>0</td>\n",
       "    </tr>\n",
       "    <tr>\n",
       "      <th>2</th>\n",
       "      <td>/cbb/players/karl-aaker-1.html</td>\n",
       "      <td>Karl Aaker</td>\n",
       "      <td>4.0</td>\n",
       "      <td>0.346</td>\n",
       "      <td>1.4</td>\n",
       "      <td>0.6</td>\n",
       "      <td>0.611</td>\n",
       "      <td>0.4</td>\n",
       "      <td>92.0</td>\n",
       "      <td>6-5</td>\n",
       "      <td>2.3</td>\n",
       "      <td>4.1</td>\n",
       "      <td>1.37</td>\n",
       "      <td>2.0</td>\n",
       "      <td>0</td>\n",
       "    </tr>\n",
       "    <tr>\n",
       "      <th>3</th>\n",
       "      <td>/cbb/players/steve-aaker-1.html</td>\n",
       "      <td>Steve Aaker</td>\n",
       "      <td>6.1</td>\n",
       "      <td>0.415</td>\n",
       "      <td>2.5</td>\n",
       "      <td>2.3</td>\n",
       "      <td>0.500</td>\n",
       "      <td>1.2</td>\n",
       "      <td>52.0</td>\n",
       "      <td>6-5</td>\n",
       "      <td>3.0</td>\n",
       "      <td>6.2</td>\n",
       "      <td>3.05</td>\n",
       "      <td>5.1</td>\n",
       "      <td>0</td>\n",
       "    </tr>\n",
       "    <tr>\n",
       "      <th>4</th>\n",
       "      <td>/cbb/players/waine-aalto-1.html</td>\n",
       "      <td>Waine Aalto</td>\n",
       "      <td>2.4</td>\n",
       "      <td>0.542</td>\n",
       "      <td>1.3</td>\n",
       "      <td>1.0</td>\n",
       "      <td>0.500</td>\n",
       "      <td>0.5</td>\n",
       "      <td>10.0</td>\n",
       "      <td>5-10</td>\n",
       "      <td>1.1</td>\n",
       "      <td>3.1</td>\n",
       "      <td>1.63</td>\n",
       "      <td>1.5</td>\n",
       "      <td>0</td>\n",
       "    </tr>\n",
       "  </tbody>\n",
       "</table>\n",
       "</div>"
      ],
      "text/plain": [
       "                                 url           name  fgapg  fgpct  fgpg  \\\n",
       "0   /cbb/players/menghe-anyam-1.html  Menghe a'Nyam    2.1  0.414   0.9   \n",
       "1  /cbb/players/jordan-aaberg-1.html  Jordan Aaberg    2.3  0.619   1.5   \n",
       "2     /cbb/players/karl-aaker-1.html     Karl Aaker    4.0  0.346   1.4   \n",
       "3    /cbb/players/steve-aaker-1.html    Steve Aaker    6.1  0.415   2.5   \n",
       "4    /cbb/players/waine-aalto-1.html    Waine Aalto    2.4  0.542   1.3   \n",
       "\n",
       "   ftapg  ftpct  ftpg  games height  pfpg  ptspg  sospg  trbpg  is_pro  \n",
       "0    1.2  0.529   0.7   41.0    6-5   2.2    2.4  -4.15    3.0       0  \n",
       "1    0.7  0.788   0.6  115.0    6-9   1.6    3.5  -3.07    2.3       0  \n",
       "2    0.6  0.611   0.4   92.0    6-5   2.3    4.1   1.37    2.0       0  \n",
       "3    2.3  0.500   1.2   52.0    6-5   3.0    6.2   3.05    5.1       0  \n",
       "4    1.0  0.500   0.5   10.0   5-10   1.1    3.1   1.63    1.5       0  "
      ]
     },
     "execution_count": 5,
     "metadata": {},
     "output_type": "execute_result"
    }
   ],
   "source": [
    "drafted2_df.head(5)"
   ]
  },
  {
   "cell_type": "code",
   "execution_count": 6,
   "id": "d238b076",
   "metadata": {},
   "outputs": [],
   "source": [
    "#drafted2_df[\"height\"].astype(str)\n",
    "drafted2_df[\"height\"]= drafted2_df[\"height\"].fillna('0-0')"
   ]
  },
  {
   "cell_type": "code",
   "execution_count": 7,
   "id": "ffe8e028",
   "metadata": {},
   "outputs": [
    {
     "name": "stdout",
     "output_type": "stream",
     "text": [
      "0         77.0\n",
      "1         81.0\n",
      "2         77.0\n",
      "3         77.0\n",
      "4         70.0\n",
      "          ... \n",
      "109656     0.0\n",
      "109657     0.0\n",
      "109658    76.0\n",
      "109659    78.0\n",
      "109660    80.0\n",
      "Name: height, Length: 109661, dtype: float64\n"
     ]
    }
   ],
   "source": [
    "#change height into inches \n",
    "def parse_ht(ht):\n",
    "    # format: 7' 0.0\"\n",
    "    ht_ = ht.split(\"-\")\n",
    "    ft_ = float(ht_[0])\n",
    "    in_ = float(ht_[1])\n",
    "    return (12*ft_) + in_\n",
    "    drafted2_df[\"height\"] = drafted2_df[\"height\"].apply(parse_ht(ht))\n",
    "print (drafted2_df[\"height\"].apply(lambda x:parse_ht(x)))"
   ]
  },
  {
   "cell_type": "code",
   "execution_count": 8,
   "id": "81e5070e",
   "metadata": {},
   "outputs": [
    {
     "data": {
      "text/html": [
       "<div>\n",
       "<style scoped>\n",
       "    .dataframe tbody tr th:only-of-type {\n",
       "        vertical-align: middle;\n",
       "    }\n",
       "\n",
       "    .dataframe tbody tr th {\n",
       "        vertical-align: top;\n",
       "    }\n",
       "\n",
       "    .dataframe thead th {\n",
       "        text-align: right;\n",
       "    }\n",
       "</style>\n",
       "<table border=\"1\" class=\"dataframe\">\n",
       "  <thead>\n",
       "    <tr style=\"text-align: right;\">\n",
       "      <th></th>\n",
       "      <th>url</th>\n",
       "      <th>name</th>\n",
       "      <th>fgapg</th>\n",
       "      <th>fgpct</th>\n",
       "      <th>fgpg</th>\n",
       "      <th>ftapg</th>\n",
       "      <th>ftpct</th>\n",
       "      <th>ftpg</th>\n",
       "      <th>games</th>\n",
       "      <th>height</th>\n",
       "      <th>pfpg</th>\n",
       "      <th>ptspg</th>\n",
       "      <th>sospg</th>\n",
       "      <th>trbpg</th>\n",
       "      <th>is_pro</th>\n",
       "    </tr>\n",
       "  </thead>\n",
       "  <tbody>\n",
       "    <tr>\n",
       "      <th>0</th>\n",
       "      <td>/cbb/players/menghe-anyam-1.html</td>\n",
       "      <td>Menghe a'Nyam</td>\n",
       "      <td>2.1</td>\n",
       "      <td>0.414</td>\n",
       "      <td>0.9</td>\n",
       "      <td>1.2</td>\n",
       "      <td>0.529</td>\n",
       "      <td>0.7</td>\n",
       "      <td>41.0</td>\n",
       "      <td>77.0</td>\n",
       "      <td>2.2</td>\n",
       "      <td>2.4</td>\n",
       "      <td>-4.15</td>\n",
       "      <td>3.0</td>\n",
       "      <td>0</td>\n",
       "    </tr>\n",
       "    <tr>\n",
       "      <th>1</th>\n",
       "      <td>/cbb/players/jordan-aaberg-1.html</td>\n",
       "      <td>Jordan Aaberg</td>\n",
       "      <td>2.3</td>\n",
       "      <td>0.619</td>\n",
       "      <td>1.5</td>\n",
       "      <td>0.7</td>\n",
       "      <td>0.788</td>\n",
       "      <td>0.6</td>\n",
       "      <td>115.0</td>\n",
       "      <td>81.0</td>\n",
       "      <td>1.6</td>\n",
       "      <td>3.5</td>\n",
       "      <td>-3.07</td>\n",
       "      <td>2.3</td>\n",
       "      <td>0</td>\n",
       "    </tr>\n",
       "    <tr>\n",
       "      <th>2</th>\n",
       "      <td>/cbb/players/karl-aaker-1.html</td>\n",
       "      <td>Karl Aaker</td>\n",
       "      <td>4.0</td>\n",
       "      <td>0.346</td>\n",
       "      <td>1.4</td>\n",
       "      <td>0.6</td>\n",
       "      <td>0.611</td>\n",
       "      <td>0.4</td>\n",
       "      <td>92.0</td>\n",
       "      <td>77.0</td>\n",
       "      <td>2.3</td>\n",
       "      <td>4.1</td>\n",
       "      <td>1.37</td>\n",
       "      <td>2.0</td>\n",
       "      <td>0</td>\n",
       "    </tr>\n",
       "    <tr>\n",
       "      <th>3</th>\n",
       "      <td>/cbb/players/steve-aaker-1.html</td>\n",
       "      <td>Steve Aaker</td>\n",
       "      <td>6.1</td>\n",
       "      <td>0.415</td>\n",
       "      <td>2.5</td>\n",
       "      <td>2.3</td>\n",
       "      <td>0.500</td>\n",
       "      <td>1.2</td>\n",
       "      <td>52.0</td>\n",
       "      <td>77.0</td>\n",
       "      <td>3.0</td>\n",
       "      <td>6.2</td>\n",
       "      <td>3.05</td>\n",
       "      <td>5.1</td>\n",
       "      <td>0</td>\n",
       "    </tr>\n",
       "    <tr>\n",
       "      <th>4</th>\n",
       "      <td>/cbb/players/waine-aalto-1.html</td>\n",
       "      <td>Waine Aalto</td>\n",
       "      <td>2.4</td>\n",
       "      <td>0.542</td>\n",
       "      <td>1.3</td>\n",
       "      <td>1.0</td>\n",
       "      <td>0.500</td>\n",
       "      <td>0.5</td>\n",
       "      <td>10.0</td>\n",
       "      <td>70.0</td>\n",
       "      <td>1.1</td>\n",
       "      <td>3.1</td>\n",
       "      <td>1.63</td>\n",
       "      <td>1.5</td>\n",
       "      <td>0</td>\n",
       "    </tr>\n",
       "  </tbody>\n",
       "</table>\n",
       "</div>"
      ],
      "text/plain": [
       "                                 url           name  fgapg  fgpct  fgpg  \\\n",
       "0   /cbb/players/menghe-anyam-1.html  Menghe a'Nyam    2.1  0.414   0.9   \n",
       "1  /cbb/players/jordan-aaberg-1.html  Jordan Aaberg    2.3  0.619   1.5   \n",
       "2     /cbb/players/karl-aaker-1.html     Karl Aaker    4.0  0.346   1.4   \n",
       "3    /cbb/players/steve-aaker-1.html    Steve Aaker    6.1  0.415   2.5   \n",
       "4    /cbb/players/waine-aalto-1.html    Waine Aalto    2.4  0.542   1.3   \n",
       "\n",
       "   ftapg  ftpct  ftpg  games  height  pfpg  ptspg  sospg  trbpg  is_pro  \n",
       "0    1.2  0.529   0.7   41.0    77.0   2.2    2.4  -4.15    3.0       0  \n",
       "1    0.7  0.788   0.6  115.0    81.0   1.6    3.5  -3.07    2.3       0  \n",
       "2    0.6  0.611   0.4   92.0    77.0   2.3    4.1   1.37    2.0       0  \n",
       "3    2.3  0.500   1.2   52.0    77.0   3.0    6.2   3.05    5.1       0  \n",
       "4    1.0  0.500   0.5   10.0    70.0   1.1    3.1   1.63    1.5       0  "
      ]
     },
     "execution_count": 8,
     "metadata": {},
     "output_type": "execute_result"
    }
   ],
   "source": [
    "drafted2_df[\"height\"] = drafted2_df[\"height\"].apply(lambda x:parse_ht(x))\n",
    "drafted2_df.head()"
   ]
  },
  {
   "cell_type": "code",
   "execution_count": 9,
   "id": "a693ba2a",
   "metadata": {},
   "outputs": [],
   "source": [
    "#replace nan with 0\n",
    "drafted2_df= drafted2_df.fillna(0)"
   ]
  },
  {
   "cell_type": "code",
   "execution_count": 10,
   "id": "06a6dbf1",
   "metadata": {},
   "outputs": [
    {
     "data": {
      "text/html": [
       "<div>\n",
       "<style scoped>\n",
       "    .dataframe tbody tr th:only-of-type {\n",
       "        vertical-align: middle;\n",
       "    }\n",
       "\n",
       "    .dataframe tbody tr th {\n",
       "        vertical-align: top;\n",
       "    }\n",
       "\n",
       "    .dataframe thead th {\n",
       "        text-align: right;\n",
       "    }\n",
       "</style>\n",
       "<table border=\"1\" class=\"dataframe\">\n",
       "  <thead>\n",
       "    <tr style=\"text-align: right;\">\n",
       "      <th></th>\n",
       "      <th>url</th>\n",
       "      <th>name</th>\n",
       "      <th>fgapg</th>\n",
       "      <th>fgpct</th>\n",
       "      <th>fgpg</th>\n",
       "      <th>ftapg</th>\n",
       "      <th>ftpct</th>\n",
       "      <th>ftpg</th>\n",
       "      <th>games</th>\n",
       "      <th>height</th>\n",
       "      <th>pfpg</th>\n",
       "      <th>ptspg</th>\n",
       "      <th>sospg</th>\n",
       "      <th>trbpg</th>\n",
       "      <th>is_pro</th>\n",
       "    </tr>\n",
       "  </thead>\n",
       "  <tbody>\n",
       "    <tr>\n",
       "      <th>0</th>\n",
       "      <td>/cbb/players/menghe-anyam-1.html</td>\n",
       "      <td>Menghe a'Nyam</td>\n",
       "      <td>2.1</td>\n",
       "      <td>0.414</td>\n",
       "      <td>0.9</td>\n",
       "      <td>1.2</td>\n",
       "      <td>0.529</td>\n",
       "      <td>0.7</td>\n",
       "      <td>41.0</td>\n",
       "      <td>77.0</td>\n",
       "      <td>2.2</td>\n",
       "      <td>2.4</td>\n",
       "      <td>-4.15</td>\n",
       "      <td>3.0</td>\n",
       "      <td>0</td>\n",
       "    </tr>\n",
       "    <tr>\n",
       "      <th>1</th>\n",
       "      <td>/cbb/players/jordan-aaberg-1.html</td>\n",
       "      <td>Jordan Aaberg</td>\n",
       "      <td>2.3</td>\n",
       "      <td>0.619</td>\n",
       "      <td>1.5</td>\n",
       "      <td>0.7</td>\n",
       "      <td>0.788</td>\n",
       "      <td>0.6</td>\n",
       "      <td>115.0</td>\n",
       "      <td>81.0</td>\n",
       "      <td>1.6</td>\n",
       "      <td>3.5</td>\n",
       "      <td>-3.07</td>\n",
       "      <td>2.3</td>\n",
       "      <td>0</td>\n",
       "    </tr>\n",
       "    <tr>\n",
       "      <th>2</th>\n",
       "      <td>/cbb/players/karl-aaker-1.html</td>\n",
       "      <td>Karl Aaker</td>\n",
       "      <td>4.0</td>\n",
       "      <td>0.346</td>\n",
       "      <td>1.4</td>\n",
       "      <td>0.6</td>\n",
       "      <td>0.611</td>\n",
       "      <td>0.4</td>\n",
       "      <td>92.0</td>\n",
       "      <td>77.0</td>\n",
       "      <td>2.3</td>\n",
       "      <td>4.1</td>\n",
       "      <td>1.37</td>\n",
       "      <td>2.0</td>\n",
       "      <td>0</td>\n",
       "    </tr>\n",
       "    <tr>\n",
       "      <th>3</th>\n",
       "      <td>/cbb/players/steve-aaker-1.html</td>\n",
       "      <td>Steve Aaker</td>\n",
       "      <td>6.1</td>\n",
       "      <td>0.415</td>\n",
       "      <td>2.5</td>\n",
       "      <td>2.3</td>\n",
       "      <td>0.500</td>\n",
       "      <td>1.2</td>\n",
       "      <td>52.0</td>\n",
       "      <td>77.0</td>\n",
       "      <td>3.0</td>\n",
       "      <td>6.2</td>\n",
       "      <td>3.05</td>\n",
       "      <td>5.1</td>\n",
       "      <td>0</td>\n",
       "    </tr>\n",
       "    <tr>\n",
       "      <th>4</th>\n",
       "      <td>/cbb/players/waine-aalto-1.html</td>\n",
       "      <td>Waine Aalto</td>\n",
       "      <td>2.4</td>\n",
       "      <td>0.542</td>\n",
       "      <td>1.3</td>\n",
       "      <td>1.0</td>\n",
       "      <td>0.500</td>\n",
       "      <td>0.5</td>\n",
       "      <td>10.0</td>\n",
       "      <td>70.0</td>\n",
       "      <td>1.1</td>\n",
       "      <td>3.1</td>\n",
       "      <td>1.63</td>\n",
       "      <td>1.5</td>\n",
       "      <td>0</td>\n",
       "    </tr>\n",
       "  </tbody>\n",
       "</table>\n",
       "</div>"
      ],
      "text/plain": [
       "                                 url           name  fgapg  fgpct  fgpg  \\\n",
       "0   /cbb/players/menghe-anyam-1.html  Menghe a'Nyam    2.1  0.414   0.9   \n",
       "1  /cbb/players/jordan-aaberg-1.html  Jordan Aaberg    2.3  0.619   1.5   \n",
       "2     /cbb/players/karl-aaker-1.html     Karl Aaker    4.0  0.346   1.4   \n",
       "3    /cbb/players/steve-aaker-1.html    Steve Aaker    6.1  0.415   2.5   \n",
       "4    /cbb/players/waine-aalto-1.html    Waine Aalto    2.4  0.542   1.3   \n",
       "\n",
       "   ftapg  ftpct  ftpg  games  height  pfpg  ptspg  sospg  trbpg  is_pro  \n",
       "0    1.2  0.529   0.7   41.0    77.0   2.2    2.4  -4.15    3.0       0  \n",
       "1    0.7  0.788   0.6  115.0    81.0   1.6    3.5  -3.07    2.3       0  \n",
       "2    0.6  0.611   0.4   92.0    77.0   2.3    4.1   1.37    2.0       0  \n",
       "3    2.3  0.500   1.2   52.0    77.0   3.0    6.2   3.05    5.1       0  \n",
       "4    1.0  0.500   0.5   10.0    70.0   1.1    3.1   1.63    1.5       0  "
      ]
     },
     "execution_count": 10,
     "metadata": {},
     "output_type": "execute_result"
    }
   ],
   "source": [
    "drafted2_df.head(5)"
   ]
  },
  {
   "cell_type": "code",
   "execution_count": 11,
   "id": "b0d43582",
   "metadata": {},
   "outputs": [],
   "source": [
    "drafted2_df.to_csv(\"drafted2.csv\", encoding=\"utf-8\", index=True)"
   ]
  },
  {
   "cell_type": "code",
   "execution_count": 12,
   "id": "f542d976",
   "metadata": {},
   "outputs": [],
   "source": [
    "#assign data to X and Y\n",
    "#using the features against the is_pro model\n",
    "\n",
    "X =drafted2_df[['fgapg','fgpct','fgpg','ftapg','ftpct','ftpg','games','height','pfpg','ptspg','sospg','trbpg']]\n",
    "y = drafted2_df['is_pro'].astype(int)"
   ]
  },
  {
   "cell_type": "code",
   "execution_count": 13,
   "id": "8c002fcd",
   "metadata": {},
   "outputs": [
    {
     "name": "stdout",
     "output_type": "stream",
     "text": [
      "Shape:  (109661, 12) (109661,)\n"
     ]
    }
   ],
   "source": [
    "print(\"Shape: \", X.shape, y.shape)"
   ]
  },
  {
   "cell_type": "code",
   "execution_count": 14,
   "id": "bc8d0cca",
   "metadata": {},
   "outputs": [],
   "source": [
    "#split data into training and testing data\n",
    "\n",
    "from sklearn.model_selection import train_test_split\n",
    "\n",
    "X_train, X_test, y_train, y_test = train_test_split(X, y, random_state=2)"
   ]
  },
  {
   "cell_type": "markdown",
   "id": "25f82ca1",
   "metadata": {},
   "source": [
    "<b>Random Forest Classifier<b>"
   ]
  },
  {
   "cell_type": "code",
   "execution_count": 15,
   "id": "0a35853b",
   "metadata": {},
   "outputs": [],
   "source": [
    "from sklearn.model_selection import train_test_split\n",
    "from sklearn.ensemble import RandomForestRegressor\n",
    "from sklearn.inspection import permutation_importance\n",
    "import shap\n",
    "from sklearn.ensemble import RandomForestClassifier\n",
    "from matplotlib import pyplot"
   ]
  },
  {
   "cell_type": "code",
   "execution_count": 16,
   "id": "41acb20a",
   "metadata": {},
   "outputs": [
    {
     "name": "stdout",
     "output_type": "stream",
     "text": [
      "Feature: 0, Score: 0.06483\n",
      "Feature: 1, Score: 0.07736\n",
      "Feature: 2, Score: 0.08404\n",
      "Feature: 3, Score: 0.05789\n",
      "Feature: 4, Score: 0.06274\n",
      "Feature: 5, Score: 0.06091\n",
      "Feature: 6, Score: 0.09020\n",
      "Feature: 7, Score: 0.06482\n",
      "Feature: 8, Score: 0.05213\n",
      "Feature: 9, Score: 0.10539\n",
      "Feature: 10, Score: 0.21046\n",
      "Feature: 11, Score: 0.06924\n"
     ]
    },
    {
     "data": {
      "image/png": "[encoded data removed]",
      "text/plain": [
       "<Figure size 432x288 with 1 Axes>"
      ]
     },
     "metadata": {
      "needs_background": "light"
     },
     "output_type": "display_data"
    }
   ],
   "source": [
    "# define dataset\n",
    "# Feautures and Predicted\n",
    "X =drafted2_df[['fgapg','fgpct','fgpg','ftapg','ftpct','ftpg','games','height','pfpg','ptspg','sospg','trbpg']]\n",
    "y = drafted2_df['is_pro'].astype(int)\n",
    "\n",
    "# define the model\n",
    "model = RandomForestClassifier()\n",
    "# fit the model\n",
    "model.fit(X, y)\n",
    "# get importance\n",
    "importance = model.feature_importances_\n",
    "# summarize feature importance\n",
    "for i,v in enumerate(importance):\n",
    "\tprint('Feature: %0d, Score: %.5f' % (i,v))\n",
    "# plot feature importance\n",
    "pyplot.bar([x for x in range(len(importance))], importance)\n",
    "pyplot.show()"
   ]
  },
  {
   "cell_type": "markdown",
   "id": "fa01fa13",
   "metadata": {},
   "source": [
    "<b>Random Forest Regressor - Shap<b>"
   ]
  },
  {
   "cell_type": "code",
   "execution_count": 17,
   "id": "0d57021a",
   "metadata": {},
   "outputs": [
    {
     "data": {
      "text/plain": [
       "RandomForestRegressor()"
      ]
     },
     "execution_count": 17,
     "metadata": {},
     "output_type": "execute_result"
    }
   ],
   "source": [
    "# train the model\n",
    "rf = RandomForestRegressor(n_estimators=100)\n",
    "rf.fit(X_train, y_train)"
   ]
  },
  {
   "cell_type": "code",
   "execution_count": 32,
   "id": "6fdb6cfc",
   "metadata": {},
   "outputs": [
    {
     "data": {
      "image/png": "[encoded data removed]",
      "text/plain": [
       "<Figure size 576x453.6 with 1 Axes>"
      ]
     },
     "metadata": {
      "needs_background": "light"
     },
     "output_type": "display_data"
    }
   ],
   "source": [
    "explainer = shap.TreeExplainer(rf)\n",
    "shap_values = explainer.shap_values(X_test)\n",
    "shap.summary_plot(shap_values, X_test, plot_type=\"bar\")"
   ]
  },
  {
   "cell_type": "code",
   "execution_count": null,
   "id": "79899e2b",
   "metadata": {},
   "outputs": [],
   "source": []
  },
  {
   "cell_type": "code",
   "execution_count": 18,
   "id": "3a2cb114",
   "metadata": {},
   "outputs": [],
   "source": [
    " # Create scaler instance\n",
    "X_scaler = skl.preprocessing.StandardScaler()\n",
    "\n",
    "# Fit the scaler\n",
    "X_scaler.fit(X_train)\n",
    "\n",
    "# Scale the data\n",
    "X_train_scaled = X_scaler.transform(X_train)\n",
    "X_test_scaled = X_scaler.transform(X_test)"
   ]
  },
  {
   "cell_type": "code",
   "execution_count": 19,
   "id": "6c8e9ea3",
   "metadata": {},
   "outputs": [
    {
     "name": "stdout",
     "output_type": "stream",
     "text": [
      "Training Score: 0.9999878412061524\n",
      "Testing Score: 0.9755981908374671\n"
     ]
    }
   ],
   "source": [
    "from sklearn.datasets import make_classification\n",
    "from sklearn.ensemble import RandomForestClassifier\n",
    "\n",
    "clf = RandomForestClassifier(random_state=1, n_estimators=500).fit(X_train_scaled, y_train)\n",
    "print(f'Training Score: {clf.score(X_train_scaled, y_train)}')\n",
    "print(f'Testing Score: {clf.score(X_test_scaled, y_test)}')"
   ]
  },
  {
   "cell_type": "markdown",
   "id": "54ef14f4",
   "metadata": {},
   "source": [
    "<b>PCA<b>"
   ]
  },
  {
   "cell_type": "code",
   "execution_count": 20,
   "id": "dd5a7f9b",
   "metadata": {},
   "outputs": [],
   "source": [
    "import pandas as pd\n",
    "from pathlib import Path\n",
    "from sklearn.preprocessing import StandardScaler\n",
    "from sklearn.decomposition import PCA\n",
    "from sklearn.cluster import KMeans\n",
    "import matplotlib.pyplot as plt"
   ]
  },
  {
   "cell_type": "code",
   "execution_count": 21,
   "id": "3c7e0286",
   "metadata": {},
   "outputs": [],
   "source": [
    "drafted2_scaled = StandardScaler().fit_transform(drafted2_df[['fgapg','fgpct','fgpg','ftapg','ftpct','ftpg','games','height','pfpg','ptspg','sospg','trbpg']])"
   ]
  },
  {
   "cell_type": "code",
   "execution_count": 22,
   "id": "91590d98",
   "metadata": {},
   "outputs": [],
   "source": [
    "# Initialize PCA model\n",
    "pca = PCA(n_components=12)\n",
    "\n",
    "# Get two principal components for the data.\n",
    "drafted2_pca = pca.fit_transform(drafted2_scaled)"
   ]
  },
  {
   "cell_type": "code",
   "execution_count": 23,
   "id": "6b97fc3e",
   "metadata": {},
   "outputs": [
    {
     "data": {
      "text/html": [
       "<div>\n",
       "<style scoped>\n",
       "    .dataframe tbody tr th:only-of-type {\n",
       "        vertical-align: middle;\n",
       "    }\n",
       "\n",
       "    .dataframe tbody tr th {\n",
       "        vertical-align: top;\n",
       "    }\n",
       "\n",
       "    .dataframe thead th {\n",
       "        text-align: right;\n",
       "    }\n",
       "</style>\n",
       "<table border=\"1\" class=\"dataframe\">\n",
       "  <thead>\n",
       "    <tr style=\"text-align: right;\">\n",
       "      <th></th>\n",
       "      <th>fgapg</th>\n",
       "      <th>fgpct</th>\n",
       "      <th>fgpg</th>\n",
       "      <th>ftapg</th>\n",
       "      <th>ftpct</th>\n",
       "      <th>ftpg</th>\n",
       "      <th>games</th>\n",
       "      <th>height</th>\n",
       "      <th>pfpg</th>\n",
       "      <th>ptspg</th>\n",
       "      <th>sospg</th>\n",
       "      <th>trbpg</th>\n",
       "    </tr>\n",
       "  </thead>\n",
       "  <tbody>\n",
       "    <tr>\n",
       "      <th>0</th>\n",
       "      <td>-0.680904</td>\n",
       "      <td>0.374093</td>\n",
       "      <td>0.603662</td>\n",
       "      <td>-0.582684</td>\n",
       "      <td>0.393505</td>\n",
       "      <td>1.066588</td>\n",
       "      <td>0.465609</td>\n",
       "      <td>-0.117691</td>\n",
       "      <td>-0.210306</td>\n",
       "      <td>-0.047609</td>\n",
       "      <td>0.054542</td>\n",
       "      <td>-0.013695</td>\n",
       "    </tr>\n",
       "    <tr>\n",
       "      <th>1</th>\n",
       "      <td>-0.134329</td>\n",
       "      <td>1.788874</td>\n",
       "      <td>0.516066</td>\n",
       "      <td>-0.319756</td>\n",
       "      <td>-0.317225</td>\n",
       "      <td>0.771811</td>\n",
       "      <td>-1.138617</td>\n",
       "      <td>-0.002336</td>\n",
       "      <td>-0.058454</td>\n",
       "      <td>-0.224851</td>\n",
       "      <td>0.021175</td>\n",
       "      <td>-0.094334</td>\n",
       "    </tr>\n",
       "    <tr>\n",
       "      <th>2</th>\n",
       "      <td>-0.232037</td>\n",
       "      <td>0.995328</td>\n",
       "      <td>-0.599108</td>\n",
       "      <td>-0.577912</td>\n",
       "      <td>-0.182857</td>\n",
       "      <td>1.136123</td>\n",
       "      <td>-0.510853</td>\n",
       "      <td>0.293573</td>\n",
       "      <td>0.437553</td>\n",
       "      <td>0.012866</td>\n",
       "      <td>0.087032</td>\n",
       "      <td>0.070138</td>\n",
       "    </tr>\n",
       "    <tr>\n",
       "      <th>3</th>\n",
       "      <td>1.357148</td>\n",
       "      <td>0.114546</td>\n",
       "      <td>-0.802806</td>\n",
       "      <td>-0.284846</td>\n",
       "      <td>0.746772</td>\n",
       "      <td>1.133588</td>\n",
       "      <td>0.698927</td>\n",
       "      <td>-0.297556</td>\n",
       "      <td>0.199717</td>\n",
       "      <td>0.111579</td>\n",
       "      <td>-0.058687</td>\n",
       "      <td>-0.002917</td>\n",
       "    </tr>\n",
       "    <tr>\n",
       "      <th>4</th>\n",
       "      <td>-1.334717</td>\n",
       "      <td>0.332830</td>\n",
       "      <td>-0.160516</td>\n",
       "      <td>0.387231</td>\n",
       "      <td>0.524870</td>\n",
       "      <td>-0.200344</td>\n",
       "      <td>0.760060</td>\n",
       "      <td>0.073759</td>\n",
       "      <td>0.153921</td>\n",
       "      <td>-0.080204</td>\n",
       "      <td>-0.117449</td>\n",
       "      <td>0.000479</td>\n",
       "    </tr>\n",
       "  </tbody>\n",
       "</table>\n",
       "</div>"
      ],
      "text/plain": [
       "      fgapg     fgpct      fgpg     ftapg     ftpct      ftpg     games  \\\n",
       "0 -0.680904  0.374093  0.603662 -0.582684  0.393505  1.066588  0.465609   \n",
       "1 -0.134329  1.788874  0.516066 -0.319756 -0.317225  0.771811 -1.138617   \n",
       "2 -0.232037  0.995328 -0.599108 -0.577912 -0.182857  1.136123 -0.510853   \n",
       "3  1.357148  0.114546 -0.802806 -0.284846  0.746772  1.133588  0.698927   \n",
       "4 -1.334717  0.332830 -0.160516  0.387231  0.524870 -0.200344  0.760060   \n",
       "\n",
       "     height      pfpg     ptspg     sospg     trbpg  \n",
       "0 -0.117691 -0.210306 -0.047609  0.054542 -0.013695  \n",
       "1 -0.002336 -0.058454 -0.224851  0.021175 -0.094334  \n",
       "2  0.293573  0.437553  0.012866  0.087032  0.070138  \n",
       "3 -0.297556  0.199717  0.111579 -0.058687 -0.002917  \n",
       "4  0.073759  0.153921 -0.080204 -0.117449  0.000479  "
      ]
     },
     "execution_count": 23,
     "metadata": {},
     "output_type": "execute_result"
    }
   ],
   "source": [
    "df_drafted2_pca = pd.DataFrame(\n",
    "    data=drafted2_pca, columns=['fgapg','fgpct','fgpg','ftapg','ftpct','ftpg','games','height','pfpg','ptspg','sospg','trbpg']\n",
    ")\n",
    "df_drafted2_pca.head()"
   ]
  },
  {
   "cell_type": "code",
   "execution_count": 24,
   "id": "8c2127d5",
   "metadata": {},
   "outputs": [
    {
     "data": {
      "text/plain": [
       "array([5.22109599e-01, 1.02488742e-01, 8.49637847e-02, 7.32142363e-02,\n",
       "       6.30539889e-02, 4.72941149e-02, 4.40267459e-02, 2.86778030e-02,\n",
       "       2.49483890e-02, 6.43092947e-03, 2.33985032e-03, 4.51816387e-04])"
      ]
     },
     "execution_count": 24,
     "metadata": {},
     "output_type": "execute_result"
    }
   ],
   "source": [
    " # Fetch the explained variance\n",
    "pca.explained_variance_ratio_"
   ]
  },
  {
   "cell_type": "markdown",
   "id": "dea4f715",
   "metadata": {},
   "source": [
    "<b>K Means<b>"
   ]
  },
  {
   "cell_type": "code",
   "execution_count": 25,
   "id": "cdf9b463",
   "metadata": {},
   "outputs": [
    {
     "data": {
      "image/png": "[encoded data removed]",
      "text/plain": [
       "<Figure size 432x288 with 1 Axes>"
      ]
     },
     "metadata": {
      "needs_background": "light"
     },
     "output_type": "display_data"
    }
   ],
   "source": [
    "# Finding the best value for k\n",
    "inertia = []\n",
    "k = list(range(1, 11))\n",
    "\n",
    "# Calculate the inertia for the range of k values\n",
    "for i in k:\n",
    "    km = KMeans(n_clusters=i, random_state=0)\n",
    "    km.fit(df_drafted2_pca)\n",
    "    inertia.append(km.inertia_)\n",
    "\n",
    "# Creating the Elbow Curve\n",
    "elbow_data = {\"k\": k, \"inertia\": inertia}\n",
    "df_elbow = pd.DataFrame(elbow_data)\n",
    "\n",
    "plt.plot(df_elbow['k'], df_elbow['inertia'])\n",
    "plt.xticks(list(range(11)))\n",
    "plt.title('Elbow Curve')\n",
    "plt.xlabel('Number of clusters')\n",
    "plt.ylabel('Inertia')\n",
    "plt.show()"
   ]
  },
  {
   "cell_type": "code",
   "execution_count": 26,
   "id": "eb0f4e66",
   "metadata": {},
   "outputs": [
    {
     "data": {
      "text/html": [
       "<div>\n",
       "<style scoped>\n",
       "    .dataframe tbody tr th:only-of-type {\n",
       "        vertical-align: middle;\n",
       "    }\n",
       "\n",
       "    .dataframe tbody tr th {\n",
       "        vertical-align: top;\n",
       "    }\n",
       "\n",
       "    .dataframe thead th {\n",
       "        text-align: right;\n",
       "    }\n",
       "</style>\n",
       "<table border=\"1\" class=\"dataframe\">\n",
       "  <thead>\n",
       "    <tr style=\"text-align: right;\">\n",
       "      <th></th>\n",
       "      <th>fgapg</th>\n",
       "      <th>fgpct</th>\n",
       "      <th>fgpg</th>\n",
       "      <th>ftapg</th>\n",
       "      <th>ftpct</th>\n",
       "      <th>ftpg</th>\n",
       "      <th>games</th>\n",
       "      <th>height</th>\n",
       "      <th>pfpg</th>\n",
       "      <th>ptspg</th>\n",
       "      <th>sospg</th>\n",
       "      <th>trbpg</th>\n",
       "      <th>is_pro</th>\n",
       "    </tr>\n",
       "  </thead>\n",
       "  <tbody>\n",
       "    <tr>\n",
       "      <th>0</th>\n",
       "      <td>-0.680904</td>\n",
       "      <td>0.374093</td>\n",
       "      <td>0.603662</td>\n",
       "      <td>-0.582684</td>\n",
       "      <td>0.393505</td>\n",
       "      <td>1.066588</td>\n",
       "      <td>0.465609</td>\n",
       "      <td>-0.117691</td>\n",
       "      <td>-0.210306</td>\n",
       "      <td>-0.047609</td>\n",
       "      <td>0.054542</td>\n",
       "      <td>-0.013695</td>\n",
       "      <td>2</td>\n",
       "    </tr>\n",
       "    <tr>\n",
       "      <th>1</th>\n",
       "      <td>-0.134329</td>\n",
       "      <td>1.788874</td>\n",
       "      <td>0.516066</td>\n",
       "      <td>-0.319756</td>\n",
       "      <td>-0.317225</td>\n",
       "      <td>0.771811</td>\n",
       "      <td>-1.138617</td>\n",
       "      <td>-0.002336</td>\n",
       "      <td>-0.058454</td>\n",
       "      <td>-0.224851</td>\n",
       "      <td>0.021175</td>\n",
       "      <td>-0.094334</td>\n",
       "      <td>2</td>\n",
       "    </tr>\n",
       "    <tr>\n",
       "      <th>2</th>\n",
       "      <td>-0.232037</td>\n",
       "      <td>0.995328</td>\n",
       "      <td>-0.599108</td>\n",
       "      <td>-0.577912</td>\n",
       "      <td>-0.182857</td>\n",
       "      <td>1.136123</td>\n",
       "      <td>-0.510853</td>\n",
       "      <td>0.293573</td>\n",
       "      <td>0.437553</td>\n",
       "      <td>0.012866</td>\n",
       "      <td>0.087032</td>\n",
       "      <td>0.070138</td>\n",
       "      <td>2</td>\n",
       "    </tr>\n",
       "    <tr>\n",
       "      <th>3</th>\n",
       "      <td>1.357148</td>\n",
       "      <td>0.114546</td>\n",
       "      <td>-0.802806</td>\n",
       "      <td>-0.284846</td>\n",
       "      <td>0.746772</td>\n",
       "      <td>1.133588</td>\n",
       "      <td>0.698927</td>\n",
       "      <td>-0.297556</td>\n",
       "      <td>0.199717</td>\n",
       "      <td>0.111579</td>\n",
       "      <td>-0.058687</td>\n",
       "      <td>-0.002917</td>\n",
       "      <td>2</td>\n",
       "    </tr>\n",
       "    <tr>\n",
       "      <th>4</th>\n",
       "      <td>-1.334717</td>\n",
       "      <td>0.332830</td>\n",
       "      <td>-0.160516</td>\n",
       "      <td>0.387231</td>\n",
       "      <td>0.524870</td>\n",
       "      <td>-0.200344</td>\n",
       "      <td>0.760060</td>\n",
       "      <td>0.073759</td>\n",
       "      <td>0.153921</td>\n",
       "      <td>-0.080204</td>\n",
       "      <td>-0.117449</td>\n",
       "      <td>0.000479</td>\n",
       "      <td>1</td>\n",
       "    </tr>\n",
       "  </tbody>\n",
       "</table>\n",
       "</div>"
      ],
      "text/plain": [
       "      fgapg     fgpct      fgpg     ftapg     ftpct      ftpg     games  \\\n",
       "0 -0.680904  0.374093  0.603662 -0.582684  0.393505  1.066588  0.465609   \n",
       "1 -0.134329  1.788874  0.516066 -0.319756 -0.317225  0.771811 -1.138617   \n",
       "2 -0.232037  0.995328 -0.599108 -0.577912 -0.182857  1.136123 -0.510853   \n",
       "3  1.357148  0.114546 -0.802806 -0.284846  0.746772  1.133588  0.698927   \n",
       "4 -1.334717  0.332830 -0.160516  0.387231  0.524870 -0.200344  0.760060   \n",
       "\n",
       "     height      pfpg     ptspg     sospg     trbpg  is_pro  \n",
       "0 -0.117691 -0.210306 -0.047609  0.054542 -0.013695       2  \n",
       "1 -0.002336 -0.058454 -0.224851  0.021175 -0.094334       2  \n",
       "2  0.293573  0.437553  0.012866  0.087032  0.070138       2  \n",
       "3 -0.297556  0.199717  0.111579 -0.058687 -0.002917       2  \n",
       "4  0.073759  0.153921 -0.080204 -0.117449  0.000479       1  "
      ]
     },
     "execution_count": 26,
     "metadata": {},
     "output_type": "execute_result"
    }
   ],
   "source": [
    "# Predicting clusters with k=3\n",
    "\n",
    "# Initialize the k-means model\n",
    "model = KMeans(n_clusters=3, random_state=0)\n",
    "\n",
    "# Fit the model\n",
    "model.fit(df_drafted2_pca)\n",
    "\n",
    "# Predict clusters\n",
    "predictions = model.predict(df_drafted2_pca)\n",
    "\n",
    "# Add the predicted class column to the dataframe\n",
    "df_drafted2_pca['is_pro'] = model.labels_\n",
    "df_drafted2_pca.head()"
   ]
  },
  {
   "cell_type": "markdown",
   "id": "4adca140",
   "metadata": {},
   "source": [
    "<b>Tensor Flow<b>"
   ]
  },
  {
   "cell_type": "code",
   "execution_count": 27,
   "id": "186f0ea5",
   "metadata": {},
   "outputs": [],
   "source": [
    "import tensorflow as tf"
   ]
  },
  {
   "cell_type": "code",
   "execution_count": 28,
   "id": "b9e2aa99",
   "metadata": {},
   "outputs": [],
   "source": [
    "from tensorflow.python.ops.numpy_ops import np_config\n",
    "np_config.enable_numpy_behavior()\n"
   ]
  },
  {
   "cell_type": "code",
   "execution_count": 29,
   "id": "ba874f31",
   "metadata": {},
   "outputs": [],
   "source": [
    "n_features = X.shape[1]"
   ]
  },
  {
   "cell_type": "code",
   "execution_count": 30,
   "id": "0b0e89d6",
   "metadata": {},
   "outputs": [
    {
     "name": "stdout",
     "output_type": "stream",
     "text": [
      "Epoch 1/50\n",
      "2571/2571 [==============================] - 2s 664us/step - loss: 0.0923 - accuracy: 0.9714\n",
      "Epoch 2/50\n",
      "2571/2571 [==============================] - 3s 1ms/step - loss: 0.0707 - accuracy: 0.9736\n",
      "Epoch 3/50\n",
      "2571/2571 [==============================] - 3s 1ms/step - loss: 0.0694 - accuracy: 0.9737\n",
      "Epoch 4/50\n",
      "2571/2571 [==============================] - 3s 1ms/step - loss: 0.0686 - accuracy: 0.9737\n",
      "Epoch 5/50\n",
      "2571/2571 [==============================] - 3s 1ms/step - loss: 0.0681 - accuracy: 0.9738\n",
      "Epoch 6/50\n",
      "2571/2571 [==============================] - 3s 1ms/step - loss: 0.0677 - accuracy: 0.9739\n",
      "Epoch 7/50\n",
      "2571/2571 [==============================] - 3s 1ms/step - loss: 0.0676 - accuracy: 0.9743\n",
      "Epoch 8/50\n",
      "2571/2571 [==============================] - 3s 1ms/step - loss: 0.0670 - accuracy: 0.9741\n",
      "Epoch 9/50\n",
      "2571/2571 [==============================] - 4s 2ms/step - loss: 0.0668 - accuracy: 0.9746\n",
      "Epoch 10/50\n",
      "2571/2571 [==============================] - 4s 2ms/step - loss: 0.0665 - accuracy: 0.9743\n",
      "Epoch 11/50\n",
      "2571/2571 [==============================] - 4s 1ms/step - loss: 0.0666 - accuracy: 0.9746\n",
      "Epoch 12/50\n",
      "2571/2571 [==============================] - 3s 1ms/step - loss: 0.0663 - accuracy: 0.9747\n",
      "Epoch 13/50\n",
      "2571/2571 [==============================] - 4s 1ms/step - loss: 0.0662 - accuracy: 0.9745\n",
      "Epoch 14/50\n",
      "2571/2571 [==============================] - 3s 1ms/step - loss: 0.0661 - accuracy: 0.9747\n",
      "Epoch 15/50\n",
      "2571/2571 [==============================] - 4s 1ms/step - loss: 0.0661 - accuracy: 0.9749\n",
      "Epoch 16/50\n",
      "2571/2571 [==============================] - 4s 1ms/step - loss: 0.0658 - accuracy: 0.9752\n",
      "Epoch 17/50\n",
      "2571/2571 [==============================] - 4s 1ms/step - loss: 0.0657 - accuracy: 0.9749\n",
      "Epoch 18/50\n",
      "2571/2571 [==============================] - 4s 1ms/step - loss: 0.0656 - accuracy: 0.9750\n",
      "Epoch 19/50\n",
      "2571/2571 [==============================] - 3s 1ms/step - loss: 0.0656 - accuracy: 0.9748\n",
      "Epoch 20/50\n",
      "2571/2571 [==============================] - 3s 1ms/step - loss: 0.0654 - accuracy: 0.9750\n",
      "Epoch 21/50\n",
      "2571/2571 [==============================] - 3s 1ms/step - loss: 0.0654 - accuracy: 0.9748\n",
      "Epoch 22/50\n",
      "2571/2571 [==============================] - 3s 1ms/step - loss: 0.0654 - accuracy: 0.9747\n",
      "Epoch 23/50\n",
      "2571/2571 [==============================] - 3s 1ms/step - loss: 0.0653 - accuracy: 0.9750\n",
      "Epoch 24/50\n",
      "2571/2571 [==============================] - 3s 1ms/step - loss: 0.0652 - accuracy: 0.9749\n",
      "Epoch 25/50\n",
      "2571/2571 [==============================] - 3s 1ms/step - loss: 0.0651 - accuracy: 0.9749\n",
      "Epoch 26/50\n",
      "2571/2571 [==============================] - 3s 1ms/step - loss: 0.0651 - accuracy: 0.9750\n",
      "Epoch 27/50\n",
      "2571/2571 [==============================] - 3s 1ms/step - loss: 0.0650 - accuracy: 0.9752\n",
      "Epoch 28/50\n",
      "2571/2571 [==============================] - 3s 1ms/step - loss: 0.0649 - accuracy: 0.9750\n",
      "Epoch 29/50\n",
      "2571/2571 [==============================] - 3s 1ms/step - loss: 0.0647 - accuracy: 0.9754\n",
      "Epoch 30/50\n",
      "2571/2571 [==============================] - 3s 1ms/step - loss: 0.0647 - accuracy: 0.9751\n",
      "Epoch 31/50\n",
      "2571/2571 [==============================] - 3s 1ms/step - loss: 0.0647 - accuracy: 0.9746\n",
      "Epoch 32/50\n",
      "2571/2571 [==============================] - 3s 1ms/step - loss: 0.0647 - accuracy: 0.9753\n",
      "Epoch 33/50\n",
      "2571/2571 [==============================] - 3s 1ms/step - loss: 0.0646 - accuracy: 0.9752\n",
      "Epoch 34/50\n",
      "2571/2571 [==============================] - 3s 1ms/step - loss: 0.0644 - accuracy: 0.9751\n",
      "Epoch 35/50\n",
      "2571/2571 [==============================] - 3s 1ms/step - loss: 0.0644 - accuracy: 0.9752\n",
      "Epoch 36/50\n",
      "2571/2571 [==============================] - 4s 1ms/step - loss: 0.0645 - accuracy: 0.9752\n",
      "Epoch 37/50\n",
      "2571/2571 [==============================] - 4s 1ms/step - loss: 0.0644 - accuracy: 0.9752\n",
      "Epoch 38/50\n",
      "2571/2571 [==============================] - 3s 1ms/step - loss: 0.0642 - accuracy: 0.9749\n",
      "Epoch 39/50\n",
      "2571/2571 [==============================] - 3s 1ms/step - loss: 0.0644 - accuracy: 0.9753\n",
      "Epoch 40/50\n",
      "2571/2571 [==============================] - 3s 1ms/step - loss: 0.0642 - accuracy: 0.9750\n",
      "Epoch 41/50\n",
      "2571/2571 [==============================] - 3s 1ms/step - loss: 0.0642 - accuracy: 0.9751\n",
      "Epoch 42/50\n",
      "2571/2571 [==============================] - 3s 1ms/step - loss: 0.0641 - accuracy: 0.9752\n",
      "Epoch 43/50\n",
      "2571/2571 [==============================] - 3s 1ms/step - loss: 0.0640 - accuracy: 0.9753: 0s - loss:\n",
      "Epoch 44/50\n",
      "2571/2571 [==============================] - 3s 1ms/step - loss: 0.0638 - accuracy: 0.9758\n",
      "Epoch 45/50\n",
      "2571/2571 [==============================] - 3s 1ms/step - loss: 0.0639 - accuracy: 0.9754\n",
      "Epoch 46/50\n",
      "2571/2571 [==============================] - 3s 1ms/step - loss: 0.0638 - accuracy: 0.9754\n",
      "Epoch 47/50\n",
      "2571/2571 [==============================] - 3s 1ms/step - loss: 0.0638 - accuracy: 0.9752\n",
      "Epoch 48/50\n",
      "2571/2571 [==============================] - 3s 1ms/step - loss: 0.0635 - accuracy: 0.9754\n",
      "Epoch 49/50\n",
      "2571/2571 [==============================] - 3s 1ms/step - loss: 0.0636 - accuracy: 0.9753\n",
      "Epoch 50/50\n",
      "2571/2571 [==============================] - 3s 1ms/step - loss: 0.0635 - accuracy: 0.9752\n",
      "857/857 - 1s - loss: 0.0644 - accuracy: 0.9757 - 748ms/epoch - 873us/step\n",
      "Loss: 0.06435121595859528, Accuracy: 0.9757440686225891\n"
     ]
    }
   ],
   "source": [
    " # Define the deep learning model \n",
    "nn_model = tf.keras.models.Sequential()\n",
    "nn_model.add(tf.keras.layers.Dense(units=16, activation=\"relu\", input_dim=n_features))\n",
    "nn_model.add(tf.keras.layers.Dense(units=16, activation=\"relu\"))\n",
    "nn_model.add(tf.keras.layers.Dense(units=1, activation=\"sigmoid\"))\n",
    "\n",
    "# Compile the Sequential model together and customize metrics\n",
    "nn_model.compile(loss=\"binary_crossentropy\", optimizer=\"adam\", metrics=[\"accuracy\"])\n",
    "\n",
    "# Train the model\n",
    "fit_model = nn_model.fit(X_train_scaled, y_train, epochs=50)\n",
    "\n",
    "# Evaluate the model using the test data\n",
    "model_loss, model_accuracy = nn_model.evaluate(X_test_scaled,y_test,verbose=2)\n",
    "print(f\"Loss: {model_loss}, Accuracy: {model_accuracy}\")"
   ]
  },
  {
   "cell_type": "code",
   "execution_count": 31,
   "id": "2e776606",
   "metadata": {},
   "outputs": [
    {
     "data": {
      "text/plain": [
       "<AxesSubplot:>"
      ]
     },
     "execution_count": 31,
     "metadata": {},
     "output_type": "execute_result"
    },
    {
     "data": {
      "image/png": "[encoded data removed]",
      "text/plain": [
       "<Figure size 432x288 with 1 Axes>"
      ]
     },
     "metadata": {
      "needs_background": "light"
     },
     "output_type": "display_data"
    }
   ],
   "source": [
    "# Create a DataFrame containing training history\n",
    "history_df = pd.DataFrame(fit_model.history, index=range(1,len(fit_model.history[\"loss\"])+1))\n",
    "\n",
    "# Plot the accuracy\n",
    "history_df.plot(y=\"accuracy\") "
   ]
  },
  {
   "cell_type": "code",
   "execution_count": null,
   "id": "eaf4ef10",
   "metadata": {},
   "outputs": [],
   "source": []
  }
 ],
 "metadata": {
  "kernelspec": {
   "display_name": "Python [conda env:root] *",
   "language": "python",
   "name": "conda-root-py"
  },
  "language_info": {
   "codemirror_mode": {
    "name": "ipython",
    "version": 3
   },
   "file_extension": ".py",
   "mimetype": "text/x-python",
   "name": "python",
   "nbconvert_exporter": "python",
   "pygments_lexer": "ipython3",
   "version": "3.8.8"
  }
 },
 "nbformat": 4,
 "nbformat_minor": 5
}
